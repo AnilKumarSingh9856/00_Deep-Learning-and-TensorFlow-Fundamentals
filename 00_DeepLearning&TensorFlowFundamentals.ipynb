{
  "cells": [
    {
      "cell_type": "markdown",
      "metadata": {
        "id": "xm0MlwjMZvBn"
      },
      "source": [
        "# In this notebook, we're going to cover some of the most fundamental concepts of tensors using TensorFlow\n",
        "## More specifically, we going to cover:\n",
        "* Introduction to tensors\n",
        "* Getting information from tensors\n",
        "* Manipulating tensors\n",
        "* Tensors & NumPy\n",
        "* Using @tf.functions(a way to speed up your regular Python functons)\n",
        "* Using GPU with TensorFlow(or TPUs)\n",
        "* Exercise to try for yourself!"
      ]
    },
    {
      "cell_type": "markdown",
      "metadata": {
        "id": "UwczXlj_bF7y"
      },
      "source": [
        "# Introduction to Tensors"
      ]
    },
    {
      "cell_type": "code",
      "execution_count": null,
      "metadata": {
        "colab": {
          "base_uri": "https://localhost:8080/"
        },
        "id": "GRAkHoRgbUY-",
        "outputId": "06aa1c7e-a572-40b4-d6fa-f9ea18c731ce"
      },
      "outputs": [
        {
          "name": "stdout",
          "output_type": "stream",
          "text": [
            "2.18.0\n"
          ]
        }
      ],
      "source": [
        "# Import Tensorflow\n",
        "import tensorflow as tf\n",
        "print(tf.__version__)"
      ]
    },
    {
      "cell_type": "code",
      "execution_count": null,
      "metadata": {
        "colab": {
          "base_uri": "https://localhost:8080/"
        },
        "id": "OeRSOje_cACA",
        "outputId": "a7573937-061d-489e-a500-7bce6e011bce"
      },
      "outputs": [
        {
          "data": {
            "text/plain": [
              "<tf.Tensor: shape=(), dtype=int32, numpy=7>"
            ]
          },
          "execution_count": 4,
          "metadata": {},
          "output_type": "execute_result"
        }
      ],
      "source": [
        "# Create tensors with tf.constant()\n",
        "scalar = tf.constant(7)\n",
        "scalar"
      ]
    },
    {
      "cell_type": "code",
      "execution_count": null,
      "metadata": {
        "colab": {
          "base_uri": "https://localhost:8080/"
        },
        "id": "hNF8meAZc2QM",
        "outputId": "2ea84434-ec56-42f9-ac96-ed5c9f994cbe"
      },
      "outputs": [
        {
          "data": {
            "text/plain": [
              "0"
            ]
          },
          "execution_count": 5,
          "metadata": {},
          "output_type": "execute_result"
        }
      ],
      "source": [
        "# Check the number of dimensions of a tensor (ndim stands for number of dimensions)\n",
        "scalar.ndim"
      ]
    },
    {
      "cell_type": "code",
      "execution_count": null,
      "metadata": {
        "colab": {
          "base_uri": "https://localhost:8080/"
        },
        "id": "fBvuOHXDdKUB",
        "outputId": "46b38c70-063d-4ad0-8a27-96f5654df436"
      },
      "outputs": [
        {
          "data": {
            "text/plain": [
              "<tf.Tensor: shape=(2,), dtype=int32, numpy=array([10, 12], dtype=int32)>"
            ]
          },
          "execution_count": 6,
          "metadata": {},
          "output_type": "execute_result"
        }
      ],
      "source": [
        "# Create a vector\n",
        "vector = tf.constant([10,12])\n",
        "vector"
      ]
    },
    {
      "cell_type": "code",
      "execution_count": null,
      "metadata": {
        "colab": {
          "base_uri": "https://localhost:8080/"
        },
        "id": "mmEOMDz_dfCu",
        "outputId": "de7de1c1-a853-45c9-d19c-92e2b33caba3"
      },
      "outputs": [
        {
          "data": {
            "text/plain": [
              "1"
            ]
          },
          "execution_count": 7,
          "metadata": {},
          "output_type": "execute_result"
        }
      ],
      "source": [
        "# check the dimension of our vector\n",
        "vector.ndim"
      ]
    },
    {
      "cell_type": "code",
      "execution_count": null,
      "metadata": {
        "colab": {
          "base_uri": "https://localhost:8080/"
        },
        "id": "qnDtfV8vdnoN",
        "outputId": "456aaf35-fb1b-4f94-f22f-89171605a612"
      },
      "outputs": [
        {
          "data": {
            "text/plain": [
              "<tf.Tensor: shape=(2, 2), dtype=int32, numpy=\n",
              "array([[19,  3],\n",
              "       [12,  6]], dtype=int32)>"
            ]
          },
          "execution_count": 8,
          "metadata": {},
          "output_type": "execute_result"
        }
      ],
      "source": [
        "# Create a matrix (has more than 1 dimension)\n",
        "matrix = tf.constant([[19,3],\n",
        "                      [12,6]])\n",
        "matrix"
      ]
    },
    {
      "cell_type": "code",
      "execution_count": null,
      "metadata": {
        "colab": {
          "base_uri": "https://localhost:8080/"
        },
        "id": "kYUDmETqeNhv",
        "outputId": "7551587d-69b9-4730-f02d-415f27280a6c"
      },
      "outputs": [
        {
          "data": {
            "text/plain": [
              "2"
            ]
          },
          "execution_count": 9,
          "metadata": {},
          "output_type": "execute_result"
        }
      ],
      "source": [
        "matrix.ndim"
      ]
    },
    {
      "cell_type": "code",
      "execution_count": null,
      "metadata": {
        "colab": {
          "base_uri": "https://localhost:8080/"
        },
        "id": "ag4LSRofejfr",
        "outputId": "c3b82c36-e8d3-485a-a54a-a9fc77595b39"
      },
      "outputs": [
        {
          "data": {
            "text/plain": [
              "<tf.Tensor: shape=(3, 2), dtype=float16, numpy=\n",
              "array([[12.,  4.],\n",
              "       [34.,  6.],\n",
              "       [ 8.,  5.]], dtype=float16)>"
            ]
          },
          "execution_count": 10,
          "metadata": {},
          "output_type": "execute_result"
        }
      ],
      "source": [
        "# Create another matrix\n",
        "another_matrix = tf.constant([[12., 4.],\n",
        " [34., 6.],\n",
        "  [8., 5.]], dtype=tf.float16) # specify the data type with dtpe parameter\n",
        "another_matrix"
      ]
    },
    {
      "cell_type": "code",
      "execution_count": null,
      "metadata": {
        "colab": {
          "base_uri": "https://localhost:8080/"
        },
        "id": "6xFhjnHRfLAz",
        "outputId": "2a90820a-b83b-4c07-b320-74a40fe8db26"
      },
      "outputs": [
        {
          "data": {
            "text/plain": [
              "2"
            ]
          },
          "execution_count": 11,
          "metadata": {},
          "output_type": "execute_result"
        }
      ],
      "source": [
        "# what's the number of dimensions of another_matrix?\n",
        "another_matrix.ndim"
      ]
    },
    {
      "cell_type": "code",
      "execution_count": null,
      "metadata": {
        "colab": {
          "base_uri": "https://localhost:8080/"
        },
        "id": "wSf7Z-Vff35R",
        "outputId": "7bdcdd6e-8345-4413-d8fb-b818b30114ae"
      },
      "outputs": [
        {
          "data": {
            "text/plain": [
              "<tf.Tensor: shape=(3, 2, 3), dtype=int32, numpy=\n",
              "array([[[ 1,  2,  3],\n",
              "        [ 4,  5,  6]],\n",
              "\n",
              "       [[ 7,  8,  9],\n",
              "        [10, 11, 12]],\n",
              "\n",
              "       [[13, 14, 15],\n",
              "        [16, 17, 18]]], dtype=int32)>"
            ]
          },
          "execution_count": 12,
          "metadata": {},
          "output_type": "execute_result"
        }
      ],
      "source": [
        "# Let's create a tensor\n",
        "tensor = tf.constant([[[1, 2, 3],[4, 5, 6]],\n",
        "                      [[7, 8, 9],[10, 11, 12]],\n",
        "                      [[13, 14, 15],[16, 17, 18]]])\n",
        "tensor"
      ]
    },
    {
      "cell_type": "code",
      "execution_count": null,
      "metadata": {
        "colab": {
          "base_uri": "https://localhost:8080/"
        },
        "id": "47_5-mXohREZ",
        "outputId": "78eae9de-f2b7-4c5a-f88b-ef6e4a514182"
      },
      "outputs": [
        {
          "data": {
            "text/plain": [
              "3"
            ]
          },
          "execution_count": 13,
          "metadata": {},
          "output_type": "execute_result"
        }
      ],
      "source": [
        "tensor.ndim"
      ]
    },
    {
      "cell_type": "markdown",
      "metadata": {
        "id": "XQYYX7AdhXKw"
      },
      "source": [
        "What we've created so far:\n",
        "* Scalar: a single number\n",
        "* Vector: a number with direction(e.g. wind speed and direction)\n",
        "* Matrix: a 2-dimensional array of numbers\n",
        "* Tensor: an n-dimensional array of numbers(when n can be any number, a 0-dimensional tensor is a scalar, a 1-dimensional tensor is a vector)"
      ]
    },
    {
      "cell_type": "markdown",
      "metadata": {
        "id": "IBxA0vdFiaCv"
      },
      "source": [
        "# Creating tensors with `tf.Variable`"
      ]
    },
    {
      "cell_type": "code",
      "execution_count": null,
      "metadata": {
        "colab": {
          "base_uri": "https://localhost:8080/"
        },
        "id": "qVxJo2T1kR1P",
        "outputId": "1ce05494-8bdd-4074-e22d-a53ef94d4433"
      },
      "outputs": [
        {
          "data": {
            "text/plain": [
              "(<tf.Variable 'Variable:0' shape=(2,) dtype=int32, numpy=array([19,  5], dtype=int32)>,\n",
              " <tf.Tensor: shape=(2,), dtype=int32, numpy=array([3, 5], dtype=int32)>)"
            ]
          },
          "execution_count": 14,
          "metadata": {},
          "output_type": "execute_result"
        }
      ],
      "source": [
        "changeable_tensor = tf.Variable([19,5])\n",
        "unchangeable_tensor = tf.constant([3,5])\n",
        "changeable_tensor, unchangeable_tensor"
      ]
    },
    {
      "cell_type": "code",
      "execution_count": null,
      "metadata": {
        "colab": {
          "base_uri": "https://localhost:8080/"
        },
        "id": "15zgEVG_kjzR",
        "outputId": "d7c1f285-9df5-4460-c303-f304c90db82c"
      },
      "outputs": [
        {
          "data": {
            "text/plain": [
              "<tf.Variable 'Variable:0' shape=(2,) dtype=int32, numpy=array([6, 5], dtype=int32)>"
            ]
          },
          "execution_count": 15,
          "metadata": {},
          "output_type": "execute_result"
        }
      ],
      "source": [
        "# Let's try change one of the elements in our changeable tensor\n",
        "# changeable_tensor[0] = 7 # you will get error\n",
        "changeable_tensor[0].assign(6)\n",
        "changeable_tensor"
      ]
    },
    {
      "cell_type": "code",
      "execution_count": null,
      "metadata": {
        "id": "Z6Ydcxe4lgMW"
      },
      "outputs": [],
      "source": [
        "# Let's try change our unchangeable tensor\n",
        "# unchangeable_tensor[0].assign(7)\n",
        "# unchangeable_tensor"
      ]
    },
    {
      "cell_type": "markdown",
      "metadata": {
        "id": "mmq5xDfImMzs"
      },
      "source": [
        "Note: Rarely in practice will you need to decide whether to use `tf.constant` or `tf.Variable` to create tensors, as TensorFlow does this for you. However, if in doubt, use `tf.constant` and change it later if needed"
      ]
    },
    {
      "cell_type": "markdown",
      "metadata": {
        "id": "mIuQQdbqvrO4"
      },
      "source": [
        "# Creating random tensors\n",
        "Random tensors are tensors of some abitrary size which contain random numbers"
      ]
    },
    {
      "cell_type": "code",
      "execution_count": null,
      "metadata": {
        "id": "_XccaPG3v7EH"
      },
      "outputs": [],
      "source": [
        "# create two random (but the same) tensors\n",
        "random_1 = tf.random.Generator.from_seed(42)  # set seed for reproducibility\n",
        "random_1 = random_1.normal(shape=(3,2))\n",
        "random_2 = tf.random.Generator.from_seed(42)  # set seed for reproducibility\n",
        "random_2 = random_2.normal(shape=(3,2))"
      ]
    },
    {
      "cell_type": "code",
      "execution_count": null,
      "metadata": {
        "colab": {
          "base_uri": "https://localhost:8080/"
        },
        "id": "MjyWn0M_xkcD",
        "outputId": "880f4448-8a00-4f4c-a6e1-80401bf74f09"
      },
      "outputs": [
        {
          "data": {
            "text/plain": [
              "(<tf.Tensor: shape=(3, 2), dtype=float32, numpy=\n",
              " array([[-0.7565803 , -0.06854702],\n",
              "        [ 0.07595026, -1.2573844 ],\n",
              "        [-0.23193765, -1.8107855 ]], dtype=float32)>,\n",
              " <tf.Tensor: shape=(3, 2), dtype=float32, numpy=\n",
              " array([[-0.7565803 , -0.06854702],\n",
              "        [ 0.07595026, -1.2573844 ],\n",
              "        [-0.23193765, -1.8107855 ]], dtype=float32)>,\n",
              " <tf.Tensor: shape=(3, 2), dtype=bool, numpy=\n",
              " array([[ True,  True],\n",
              "        [ True,  True],\n",
              "        [ True,  True]])>)"
            ]
          },
          "execution_count": 18,
          "metadata": {},
          "output_type": "execute_result"
        }
      ],
      "source": [
        "#Are thye equal?\n",
        "random_1, random_2 , random_1 == random_2"
      ]
    },
    {
      "cell_type": "markdown",
      "metadata": {
        "id": "kdDKRIlVxnyy"
      },
      "source": [
        "### shuffle the order of elements in a tensor"
      ]
    },
    {
      "cell_type": "code",
      "execution_count": null,
      "metadata": {
        "colab": {
          "base_uri": "https://localhost:8080/"
        },
        "id": "11PnpLasyXo_",
        "outputId": "fdafe66b-f708-41d7-a70e-759298cf46d6"
      },
      "outputs": [
        {
          "data": {
            "text/plain": [
              "<tf.Tensor: shape=(3, 2), dtype=int32, numpy=\n",
              "array([[12,  6],\n",
              "       [52, 96],\n",
              "       [19,  3]], dtype=int32)>"
            ]
          },
          "execution_count": 19,
          "metadata": {},
          "output_type": "execute_result"
        }
      ],
      "source": [
        "# shuffle a tensor (valuable for when want to shuffle your data so the inherent order doesn't effect learning)\n",
        "not_shuffled = tf.constant([[19,3],\n",
        "                      [12,6],\n",
        "                       [52,96]])\n",
        "# shuffle our non-shuffled tensor\n",
        "tf.random.shuffle(not_shuffled)"
      ]
    },
    {
      "cell_type": "code",
      "execution_count": null,
      "metadata": {
        "colab": {
          "base_uri": "https://localhost:8080/"
        },
        "id": "TeoiEQ7y0h-J",
        "outputId": "3063bebe-db75-478f-deda-b6ed5938f9cc"
      },
      "outputs": [
        {
          "data": {
            "text/plain": [
              "<tf.Tensor: shape=(3, 2), dtype=int32, numpy=\n",
              "array([[19,  3],\n",
              "       [12,  6],\n",
              "       [52, 96]], dtype=int32)>"
            ]
          },
          "execution_count": 20,
          "metadata": {},
          "output_type": "execute_result"
        }
      ],
      "source": [
        "tf.random.set_seed(42)\n",
        "tf.random.shuffle(not_shuffled, seed=42)"
      ]
    },
    {
      "cell_type": "markdown",
      "metadata": {
        "id": "FuoXr1uNoYQr"
      },
      "source": [
        "It looks like if we want our shuffled tensors to be in the same order, we've got to use the global level random seed as well as the operation level random seed:\n",
        "\n",
        "> If both the global and the operation seed are set: Both seeds are used in conjuction to determine the random sequence."
      ]
    },
    {
      "cell_type": "code",
      "execution_count": null,
      "metadata": {
        "colab": {
          "base_uri": "https://localhost:8080/"
        },
        "id": "U6AtDMXK1QFT",
        "outputId": "bda59ce1-fef6-48ca-90fc-87d1c4f864a1"
      },
      "outputs": [
        {
          "data": {
            "text/plain": [
              "<tf.Tensor: shape=(3, 2), dtype=int32, numpy=\n",
              "array([[52, 96],\n",
              "       [19,  3],\n",
              "       [12,  6]], dtype=int32)>"
            ]
          },
          "execution_count": 21,
          "metadata": {},
          "output_type": "execute_result"
        }
      ],
      "source": [
        "# tf.random.set_seed(42)  # global level random seed\n",
        "tf.random.shuffle(not_shuffled, seed=42) # operation level random seed"
      ]
    },
    {
      "cell_type": "markdown",
      "metadata": {
        "id": "R090R785rxb9"
      },
      "source": [
        "### Other ways to make tensors"
      ]
    },
    {
      "cell_type": "code",
      "execution_count": null,
      "metadata": {
        "colab": {
          "base_uri": "https://localhost:8080/"
        },
        "id": "DTr5SsT-pOeq",
        "outputId": "e54d4237-79cd-4464-ef9d-90f6407183b7"
      },
      "outputs": [
        {
          "data": {
            "text/plain": [
              "<tf.Tensor: shape=(4, 6), dtype=int32, numpy=\n",
              "array([[1, 1, 1, 1, 1, 1],\n",
              "       [1, 1, 1, 1, 1, 1],\n",
              "       [1, 1, 1, 1, 1, 1],\n",
              "       [1, 1, 1, 1, 1, 1]], dtype=int32)>"
            ]
          },
          "execution_count": 22,
          "metadata": {},
          "output_type": "execute_result"
        }
      ],
      "source": [
        "# create a tensor of all ones\n",
        "tf.ones([4, 6], dtype= tf.int32)"
      ]
    },
    {
      "cell_type": "code",
      "execution_count": null,
      "metadata": {
        "colab": {
          "base_uri": "https://localhost:8080/"
        },
        "id": "JFfsp-cwr8-p",
        "outputId": "01f5f0de-ed3c-4b4f-cba1-deebe7c2a60f"
      },
      "outputs": [
        {
          "data": {
            "text/plain": [
              "<tf.Tensor: shape=(4, 4), dtype=float32, numpy=\n",
              "array([[0., 0., 0., 0.],\n",
              "       [0., 0., 0., 0.],\n",
              "       [0., 0., 0., 0.],\n",
              "       [0., 0., 0., 0.]], dtype=float32)>"
            ]
          },
          "execution_count": 23,
          "metadata": {},
          "output_type": "execute_result"
        }
      ],
      "source": [
        "# create a tensor of all zeroes\n",
        "tf.zeros([4,4])"
      ]
    },
    {
      "cell_type": "markdown",
      "metadata": {
        "id": "Zzs1W0eWs2Th"
      },
      "source": [
        "### Turn NumPy arrays into tensors\n",
        "The main difference between `NumPy arrays` and `TensorFlow tensors` is that tensors can be run on a `GPU Computing`."
      ]
    },
    {
      "cell_type": "code",
      "execution_count": null,
      "metadata": {
        "colab": {
          "base_uri": "https://localhost:8080/"
        },
        "id": "hbkJvGhZsT5N",
        "outputId": "dae55ad3-2bae-487b-f7b6-b24db264ef76"
      },
      "outputs": [
        {
          "data": {
            "text/plain": [
              "array([ 1,  2,  3,  4,  5,  6,  7,  8,  9, 10, 11, 12, 13, 14, 15, 16, 17,\n",
              "       18, 19, 20, 21, 22, 23, 24], dtype=int32)"
            ]
          },
          "execution_count": 24,
          "metadata": {},
          "output_type": "execute_result"
        }
      ],
      "source": [
        "# You can also turn NumPy arrays into tensors\n",
        "import numpy as np\n",
        "numpy_A = np.arange(1, 25, dtype=np.int32) # create a NumPy array between 1 and 25\n",
        "numpy_A\n",
        "\n",
        "# X = tf.constant(some_matrix) # capital for matrix or tensor\n",
        "# y = tf.constant(vector) # non-capital for vector"
      ]
    },
    {
      "cell_type": "code",
      "execution_count": null,
      "metadata": {
        "colab": {
          "base_uri": "https://localhost:8080/"
        },
        "id": "VQg0soVytc5O",
        "outputId": "e659ccb8-9e2b-47ef-9c72-6ee559a1f5ba"
      },
      "outputs": [
        {
          "data": {
            "text/plain": [
              "(<tf.Tensor: shape=(2, 3, 4), dtype=int32, numpy=\n",
              " array([[[ 1,  2,  3,  4],\n",
              "         [ 5,  6,  7,  8],\n",
              "         [ 9, 10, 11, 12]],\n",
              " \n",
              "        [[13, 14, 15, 16],\n",
              "         [17, 18, 19, 20],\n",
              "         [21, 22, 23, 24]]], dtype=int32)>,\n",
              " <tf.Tensor: shape=(24,), dtype=int32, numpy=\n",
              " array([ 1,  2,  3,  4,  5,  6,  7,  8,  9, 10, 11, 12, 13, 14, 15, 16, 17,\n",
              "        18, 19, 20, 21, 22, 23, 24], dtype=int32)>)"
            ]
          },
          "execution_count": 25,
          "metadata": {},
          "output_type": "execute_result"
        }
      ],
      "source": [
        "A = tf.constant(numpy_A, shape=(2,3,4))\n",
        "B = tf.constant(numpy_A)\n",
        "A, B"
      ]
    },
    {
      "cell_type": "code",
      "execution_count": null,
      "metadata": {
        "colab": {
          "base_uri": "https://localhost:8080/"
        },
        "id": "ZbXXbeqhwmna",
        "outputId": "30857f7b-b959-4db5-8aa0-e151edc9690e"
      },
      "outputs": [
        {
          "data": {
            "text/plain": [
              "3"
            ]
          },
          "execution_count": 26,
          "metadata": {},
          "output_type": "execute_result"
        }
      ],
      "source": [
        "A.ndim"
      ]
    },
    {
      "cell_type": "markdown",
      "metadata": {
        "id": "9vn-31Tlwl5Z"
      },
      "source": [
        "### Getting information from tensors\n",
        "When dealing with tensors you probably want to be aware of the following attributes:\n",
        "* Shape\n",
        "* Rank\n",
        "* Axis or dimension\n",
        "* Size"
      ]
    },
    {
      "cell_type": "code",
      "execution_count": null,
      "metadata": {
        "colab": {
          "base_uri": "https://localhost:8080/"
        },
        "id": "IYu0fNvqvDkW",
        "outputId": "1159f04f-8911-4d00-e321-d2ad500aa2de"
      },
      "outputs": [
        {
          "data": {
            "text/plain": [
              "<tf.Tensor: shape=(2, 3, 4, 5), dtype=float32, numpy=\n",
              "array([[[[0., 0., 0., 0., 0.],\n",
              "         [0., 0., 0., 0., 0.],\n",
              "         [0., 0., 0., 0., 0.],\n",
              "         [0., 0., 0., 0., 0.]],\n",
              "\n",
              "        [[0., 0., 0., 0., 0.],\n",
              "         [0., 0., 0., 0., 0.],\n",
              "         [0., 0., 0., 0., 0.],\n",
              "         [0., 0., 0., 0., 0.]],\n",
              "\n",
              "        [[0., 0., 0., 0., 0.],\n",
              "         [0., 0., 0., 0., 0.],\n",
              "         [0., 0., 0., 0., 0.],\n",
              "         [0., 0., 0., 0., 0.]]],\n",
              "\n",
              "\n",
              "       [[[0., 0., 0., 0., 0.],\n",
              "         [0., 0., 0., 0., 0.],\n",
              "         [0., 0., 0., 0., 0.],\n",
              "         [0., 0., 0., 0., 0.]],\n",
              "\n",
              "        [[0., 0., 0., 0., 0.],\n",
              "         [0., 0., 0., 0., 0.],\n",
              "         [0., 0., 0., 0., 0.],\n",
              "         [0., 0., 0., 0., 0.]],\n",
              "\n",
              "        [[0., 0., 0., 0., 0.],\n",
              "         [0., 0., 0., 0., 0.],\n",
              "         [0., 0., 0., 0., 0.],\n",
              "         [0., 0., 0., 0., 0.]]]], dtype=float32)>"
            ]
          },
          "execution_count": 27,
          "metadata": {},
          "output_type": "execute_result"
        }
      ],
      "source": [
        "# Create a rank 4 tensor (4 dimensions)\n",
        "rank_4_tensor = tf.zeros(shape=(2,3,4,5))\n",
        "rank_4_tensor"
      ]
    },
    {
      "cell_type": "markdown",
      "metadata": {
        "id": "WpsQerCP05aO"
      },
      "source": [
        "<!-- # `This means:\n",
        "\n",
        "# 2 blocks (0, 1)\n",
        "\n",
        "# Each block has 3 matrices (0, 1, 2)\n",
        "\n",
        "# Each matrix has 4 rows\n",
        "\n",
        "# Each row has 5 columns` -->"
      ]
    },
    {
      "cell_type": "markdown",
      "metadata": {
        "id": "x-B4daT31BNV"
      },
      "source": [
        "This means(rank_4_tensor):\n",
        "\n",
        "* 2 blocks (0, 1)\n",
        "* Each block has 3 matrices (0, 1, 2)\n",
        "* Each matrix has 4 rows\n",
        "* Each row has 5 columns"
      ]
    },
    {
      "cell_type": "code",
      "execution_count": null,
      "metadata": {
        "colab": {
          "base_uri": "https://localhost:8080/"
        },
        "id": "a2kjVQhaxzXF",
        "outputId": "5d6a530a-6e82-4f39-cff4-cd5b063848ab"
      },
      "outputs": [
        {
          "data": {
            "text/plain": [
              "<tf.Tensor: shape=(3, 4, 5), dtype=float32, numpy=\n",
              "array([[[0., 0., 0., 0., 0.],\n",
              "        [0., 0., 0., 0., 0.],\n",
              "        [0., 0., 0., 0., 0.],\n",
              "        [0., 0., 0., 0., 0.]],\n",
              "\n",
              "       [[0., 0., 0., 0., 0.],\n",
              "        [0., 0., 0., 0., 0.],\n",
              "        [0., 0., 0., 0., 0.],\n",
              "        [0., 0., 0., 0., 0.]],\n",
              "\n",
              "       [[0., 0., 0., 0., 0.],\n",
              "        [0., 0., 0., 0., 0.],\n",
              "        [0., 0., 0., 0., 0.],\n",
              "        [0., 0., 0., 0., 0.]]], dtype=float32)>"
            ]
          },
          "execution_count": 28,
          "metadata": {},
          "output_type": "execute_result"
        }
      ],
      "source": [
        "rank_4_tensor[0]"
      ]
    },
    {
      "cell_type": "code",
      "execution_count": null,
      "metadata": {
        "colab": {
          "base_uri": "https://localhost:8080/"
        },
        "id": "ozKtojneyVqV",
        "outputId": "3b9e43f3-1b15-4508-fd2a-7925dbd59ce0"
      },
      "outputs": [
        {
          "data": {
            "text/plain": [
              "<tf.Tensor: shape=(4, 5), dtype=float32, numpy=\n",
              "array([[0., 0., 0., 0., 0.],\n",
              "       [0., 0., 0., 0., 0.],\n",
              "       [0., 0., 0., 0., 0.],\n",
              "       [0., 0., 0., 0., 0.]], dtype=float32)>"
            ]
          },
          "execution_count": 29,
          "metadata": {},
          "output_type": "execute_result"
        }
      ],
      "source": [
        "rank_4_tensor[0][1] # Getting second matrix (index 1) of first block (index 0)\n"
      ]
    },
    {
      "cell_type": "code",
      "execution_count": null,
      "metadata": {
        "colab": {
          "base_uri": "https://localhost:8080/"
        },
        "id": "BVyKJhGXydFt",
        "outputId": "ac875e57-984c-4c03-90a9-20e9ea8ee8f5"
      },
      "outputs": [
        {
          "data": {
            "text/plain": [
              "<tf.Tensor: shape=(5,), dtype=float32, numpy=array([0., 0., 0., 0., 0.], dtype=float32)>"
            ]
          },
          "execution_count": 30,
          "metadata": {},
          "output_type": "execute_result"
        }
      ],
      "source": [
        "rank_4_tensor[0][1][0] # Getting first row (index 0) of second matrix (index 1) of first block (index 0)\n"
      ]
    },
    {
      "cell_type": "code",
      "execution_count": null,
      "metadata": {
        "colab": {
          "base_uri": "https://localhost:8080/"
        },
        "id": "28z0VXlhyl9K",
        "outputId": "5474c500-7a83-4bb2-c90b-2f9e827137a2"
      },
      "outputs": [
        {
          "data": {
            "text/plain": [
              "<tf.Tensor: shape=(), dtype=float32, numpy=0.0>"
            ]
          },
          "execution_count": 31,
          "metadata": {},
          "output_type": "execute_result"
        }
      ],
      "source": [
        "rank_4_tensor[0][1][3][4] # Getting element at row index 3, column index 4 of second matrix (index 1) of first block (index 0)\n"
      ]
    },
    {
      "cell_type": "code",
      "execution_count": null,
      "metadata": {
        "colab": {
          "base_uri": "https://localhost:8080/"
        },
        "id": "WxEjKk2iysSd",
        "outputId": "02812e57-efab-4a8f-8bfd-0d403cc25f1e"
      },
      "outputs": [
        {
          "data": {
            "text/plain": [
              "(TensorShape([2, 3, 4, 5]), 4, <tf.Tensor: shape=(), dtype=int32, numpy=120>)"
            ]
          },
          "execution_count": 32,
          "metadata": {},
          "output_type": "execute_result"
        }
      ],
      "source": [
        "rank_4_tensor.shape, rank_4_tensor.ndim, tf.size(rank_4_tensor)"
      ]
    },
    {
      "cell_type": "code",
      "execution_count": null,
      "metadata": {
        "colab": {
          "base_uri": "https://localhost:8080/"
        },
        "id": "ogEZDv9138Ba",
        "outputId": "435935ca-8eac-467f-8510-ab8c6ad6e8b6"
      },
      "outputs": [
        {
          "data": {
            "text/plain": [
              "120"
            ]
          },
          "execution_count": 33,
          "metadata": {},
          "output_type": "execute_result"
        }
      ],
      "source": [
        "2 * 3 * 4 * 5"
      ]
    },
    {
      "cell_type": "code",
      "execution_count": null,
      "metadata": {
        "colab": {
          "base_uri": "https://localhost:8080/"
        },
        "id": "9mxRf6bu4DEK",
        "outputId": "048e3332-9816-4ba3-ad26-7221ecc668e0"
      },
      "outputs": [
        {
          "name": "stdout",
          "output_type": "stream",
          "text": [
            "Datatype of every element: <dtype: 'float32'>\n",
            "Number of dimensions (rank): 4\n",
            "Shape of tensor: (2, 3, 4, 5)\n",
            "Elements along the 0 axis: 2\n",
            "Elements along the last axis: 5\n",
            "Total number of elements in our tensors: tf.Tensor(120, shape=(), dtype=int32)\n",
            "Total number of elements in our tensors: 120\n"
          ]
        }
      ],
      "source": [
        "# Get various attributes of our tensor\n",
        "print(\"Datatype of every element:\", rank_4_tensor.dtype)\n",
        "print(\"Number of dimensions (rank):\", rank_4_tensor.ndim)\n",
        "print(\"Shape of tensor:\", rank_4_tensor.shape)\n",
        "print(\"Elements along the 0 axis:\", rank_4_tensor.shape[0])\n",
        "print(\"Elements along the last axis:\", rank_4_tensor.shape[-1])\n",
        "print(\"Total number of elements in our tensors:\", tf.size(rank_4_tensor))\n",
        "print(\"Total number of elements in our tensors:\", tf.size(rank_4_tensor).numpy())"
      ]
    },
    {
      "cell_type": "markdown",
      "metadata": {
        "id": "CFIpeQC95zi5"
      },
      "source": [
        "### Indexing tensors\n",
        "Tensors can be indexed just like Python lists."
      ]
    },
    {
      "cell_type": "code",
      "execution_count": null,
      "metadata": {
        "colab": {
          "base_uri": "https://localhost:8080/"
        },
        "id": "iInL5wCq58L2",
        "outputId": "bd0da10d-15d5-4478-b69e-20088989f734"
      },
      "outputs": [
        {
          "data": {
            "text/plain": [
              "<tf.Tensor: shape=(2, 2, 2, 3), dtype=float32, numpy=\n",
              "array([[[[0., 0., 0.],\n",
              "         [0., 0., 0.]],\n",
              "\n",
              "        [[0., 0., 0.],\n",
              "         [0., 0., 0.]]],\n",
              "\n",
              "\n",
              "       [[[0., 0., 0.],\n",
              "         [0., 0., 0.]],\n",
              "\n",
              "        [[0., 0., 0.],\n",
              "         [0., 0., 0.]]]], dtype=float32)>"
            ]
          },
          "execution_count": 35,
          "metadata": {},
          "output_type": "execute_result"
        }
      ],
      "source": [
        "# Get the first 2 elements of each dimension\n",
        "rank_4_tensor[:2, :2, :2, 2:]"
      ]
    },
    {
      "cell_type": "code",
      "execution_count": null,
      "metadata": {
        "colab": {
          "base_uri": "https://localhost:8080/"
        },
        "id": "VMNWLa2V6ntf",
        "outputId": "fdf15d95-078b-410c-f5b8-5ee857f1f0ab"
      },
      "outputs": [
        {
          "data": {
            "text/plain": [
              "array([[[[0., 0., 0., 0., 0.]]]], dtype=float32)"
            ]
          },
          "execution_count": 36,
          "metadata": {},
          "output_type": "execute_result"
        }
      ],
      "source": [
        "# Get the first element from each dimension from each index except for the final one\n",
        "rank_4_tensor[:1, :1, :1, :].numpy()"
      ]
    },
    {
      "cell_type": "markdown",
      "metadata": {
        "id": "j1kUKWK__Nty"
      },
      "source": [
        "✅ Final Meaning:\n",
        "Select the first element from the first three dimensions,\n",
        "and everything from the last dimension."
      ]
    },
    {
      "cell_type": "code",
      "execution_count": null,
      "metadata": {
        "colab": {
          "base_uri": "https://localhost:8080/"
        },
        "id": "WGWLPxhI8l_5",
        "outputId": "5d6ddfd0-c8dc-492a-903c-91e26305a107"
      },
      "outputs": [
        {
          "data": {
            "text/plain": [
              "[[[[0.0, 0.0, 0.0, 0.0, 0.0]]]]"
            ]
          },
          "execution_count": 37,
          "metadata": {},
          "output_type": "execute_result"
        }
      ],
      "source": [
        "rank_4_tensor[:1, :1, :1, :].numpy().tolist()"
      ]
    },
    {
      "cell_type": "code",
      "execution_count": null,
      "metadata": {
        "colab": {
          "base_uri": "https://localhost:8080/"
        },
        "id": "dCfZDBTB8tUa",
        "outputId": "94f03e90-7340-4e96-c42d-2dd3d32d93a9"
      },
      "outputs": [
        {
          "data": {
            "text/plain": [
              "[[[[0.0]], [[0.0]], [[0.0]]]]"
            ]
          },
          "execution_count": 38,
          "metadata": {},
          "output_type": "execute_result"
        }
      ],
      "source": [
        "rank_4_tensor[:1, :, :1, :1].numpy().tolist()"
      ]
    },
    {
      "cell_type": "code",
      "execution_count": null,
      "metadata": {
        "id": "2H4Uz2o4APrR"
      },
      "outputs": [],
      "source": [
        "# Create a rank 2 tensor (2 dimensions)\n",
        "rank_2_tensor = tf.range(12)"
      ]
    },
    {
      "cell_type": "code",
      "execution_count": null,
      "metadata": {
        "id": "MTqsvboGAkgS"
      },
      "outputs": [],
      "source": [
        "rk_2_ts = tf.reshape(rank_2_tensor, (3,4))\n"
      ]
    },
    {
      "cell_type": "code",
      "execution_count": null,
      "metadata": {
        "colab": {
          "base_uri": "https://localhost:8080/"
        },
        "id": "iegfWa6rBCBq",
        "outputId": "bfa3017e-6254-4ba5-deb1-f2897bd3aeaa"
      },
      "outputs": [
        {
          "data": {
            "text/plain": [
              "(<tf.Tensor: shape=(3, 4), dtype=int32, numpy=\n",
              " array([[ 0,  1,  2,  3],\n",
              "        [ 4,  5,  6,  7],\n",
              "        [ 8,  9, 10, 11]], dtype=int32)>,\n",
              " 2)"
            ]
          },
          "execution_count": 41,
          "metadata": {},
          "output_type": "execute_result"
        }
      ],
      "source": [
        "rk_2_ts, rk_2_ts.ndim"
      ]
    },
    {
      "cell_type": "code",
      "execution_count": null,
      "metadata": {
        "colab": {
          "base_uri": "https://localhost:8080/"
        },
        "id": "MJ0GVMM_CygN",
        "outputId": "ff8224a9-f4e6-4fd2-80f3-58c85bcdde36"
      },
      "outputs": [
        {
          "data": {
            "text/plain": [
              "array([ 3,  7, 11], dtype=int32)"
            ]
          },
          "execution_count": 42,
          "metadata": {},
          "output_type": "execute_result"
        }
      ],
      "source": [
        "# Get the last item of each of row of our rank 2 tensor\n",
        "rk_2_ts[:,-1].numpy()"
      ]
    },
    {
      "cell_type": "code",
      "execution_count": null,
      "metadata": {
        "colab": {
          "background_save": true,
          "base_uri": "https://localhost:8080/"
        },
        "id": "L62191AuD3ez",
        "outputId": "6da9edf7-ab42-44b3-9472-bd91e4dd5f8c"
      },
      "outputs": [
        {
          "data": {
            "text/plain": [
              "<tf.Tensor: shape=(3, 4, 1), dtype=int32, numpy=\n",
              "array([[[ 0],\n",
              "        [ 1],\n",
              "        [ 2],\n",
              "        [ 3]],\n",
              "\n",
              "       [[ 4],\n",
              "        [ 5],\n",
              "        [ 6],\n",
              "        [ 7]],\n",
              "\n",
              "       [[ 8],\n",
              "        [ 9],\n",
              "        [10],\n",
              "        [11]]], dtype=int32)>"
            ]
          },
          "execution_count": 43,
          "metadata": {},
          "output_type": "execute_result"
        }
      ],
      "source": [
        "# Adding in extra dimension to our rank 2 tensor\n",
        "rank_3_tensor = rk_2_ts[..., tf.newaxis]  # ... --> means every axix before the last one or :, :, in this case\n",
        "rank_3_tensor"
      ]
    },
    {
      "cell_type": "code",
      "execution_count": null,
      "metadata": {
        "colab": {
          "background_save": true,
          "base_uri": "https://localhost:8080/"
        },
        "id": "IVP-hLF6GMu4",
        "outputId": "3c799c7b-429b-4da8-f88c-3d9d83df0159"
      },
      "outputs": [
        {
          "data": {
            "text/plain": [
              "<tf.Tensor: shape=(3, 4, 1), dtype=int32, numpy=\n",
              "array([[[ 0],\n",
              "        [ 1],\n",
              "        [ 2],\n",
              "        [ 3]],\n",
              "\n",
              "       [[ 4],\n",
              "        [ 5],\n",
              "        [ 6],\n",
              "        [ 7]],\n",
              "\n",
              "       [[ 8],\n",
              "        [ 9],\n",
              "        [10],\n",
              "        [11]]], dtype=int32)>"
            ]
          },
          "execution_count": 44,
          "metadata": {},
          "output_type": "execute_result"
        }
      ],
      "source": [
        "# Alternative to tf.newaxis\n",
        "tf.expand_dims(rk_2_ts, axis=-1) # \"-1\" means expand the final axis"
      ]
    },
    {
      "cell_type": "code",
      "execution_count": null,
      "metadata": {
        "colab": {
          "background_save": true,
          "base_uri": "https://localhost:8080/"
        },
        "id": "AiCbumv9HKFC",
        "outputId": "38adbd38-894f-4999-c06a-64881cb43ce4"
      },
      "outputs": [
        {
          "data": {
            "text/plain": [
              "<tf.Tensor: shape=(1, 3, 4), dtype=int32, numpy=\n",
              "array([[[ 0,  1,  2,  3],\n",
              "        [ 4,  5,  6,  7],\n",
              "        [ 8,  9, 10, 11]]], dtype=int32)>"
            ]
          },
          "execution_count": 45,
          "metadata": {},
          "output_type": "execute_result"
        }
      ],
      "source": [
        "# Expand 0-axis\n",
        "tf.expand_dims(rk_2_ts, axis=0)"
      ]
    },
    {
      "cell_type": "code",
      "execution_count": null,
      "metadata": {
        "colab": {
          "background_save": true,
          "base_uri": "https://localhost:8080/"
        },
        "id": "oieqOF-5HnVp",
        "outputId": "42535ffc-2d36-4cd4-efe7-1b7a879d592d"
      },
      "outputs": [
        {
          "data": {
            "text/plain": [
              "<tf.Tensor: shape=(3, 1, 4), dtype=int32, numpy=\n",
              "array([[[ 0,  1,  2,  3]],\n",
              "\n",
              "       [[ 4,  5,  6,  7]],\n",
              "\n",
              "       [[ 8,  9, 10, 11]]], dtype=int32)>"
            ]
          },
          "execution_count": 46,
          "metadata": {},
          "output_type": "execute_result"
        }
      ],
      "source": [
        "# Expand 1-axis\n",
        "tf.expand_dims(rk_2_ts, axis=1)"
      ]
    },
    {
      "cell_type": "markdown",
      "metadata": {
        "id": "q-88ZC4YK3lh"
      },
      "source": [
        "### Manipulating tensors (tensor operations)"
      ]
    },
    {
      "cell_type": "markdown",
      "metadata": {
        "id": "slpbPTfBLjj6"
      },
      "source": [
        "**Basic operations**\n",
        "\n",
        "`+`, `-`, `*`, `/`"
      ]
    },
    {
      "cell_type": "code",
      "execution_count": null,
      "metadata": {
        "colab": {
          "background_save": true,
          "base_uri": "https://localhost:8080/"
        },
        "id": "EaGSaWYDK-Ay",
        "outputId": "8f1dc342-fae8-40a3-aadd-5b8185bb5133"
      },
      "outputs": [
        {
          "data": {
            "text/plain": [
              "<tf.Tensor: shape=(2, 2), dtype=int32, numpy=\n",
              "array([[20, 17],\n",
              "       [13, 14]], dtype=int32)>"
            ]
          },
          "execution_count": 47,
          "metadata": {},
          "output_type": "execute_result"
        }
      ],
      "source": [
        "# You can add values to a tensor using the addition operator\n",
        "tensor = tf.constant([[10, 7],\n",
        "                      [3, 4]])\n",
        "tensor + 10"
      ]
    },
    {
      "cell_type": "code",
      "execution_count": null,
      "metadata": {
        "colab": {
          "background_save": true,
          "base_uri": "https://localhost:8080/"
        },
        "id": "j_PNB800MxdA",
        "outputId": "c6ac0c1a-647c-4f01-b650-2c6bb94a8701"
      },
      "outputs": [
        {
          "data": {
            "text/plain": [
              "<tf.Tensor: shape=(2, 2), dtype=int32, numpy=\n",
              "array([[10,  7],\n",
              "       [ 3,  4]], dtype=int32)>"
            ]
          },
          "execution_count": 48,
          "metadata": {},
          "output_type": "execute_result"
        }
      ],
      "source": [
        "# but Origninal tensor is unchanged\n",
        "tensor"
      ]
    },
    {
      "cell_type": "code",
      "execution_count": null,
      "metadata": {
        "colab": {
          "background_save": true,
          "base_uri": "https://localhost:8080/"
        },
        "id": "Qn1Lp_U0M36M",
        "outputId": "aa8550a3-0b84-46ce-826e-12b62dfa9db5"
      },
      "outputs": [
        {
          "data": {
            "text/plain": [
              "<tf.Tensor: shape=(2, 2), dtype=int32, numpy=\n",
              "array([[100,  70],\n",
              "       [ 30,  40]], dtype=int32)>"
            ]
          },
          "execution_count": 49,
          "metadata": {},
          "output_type": "execute_result"
        }
      ],
      "source": [
        "# Multiplication also works\n",
        "tensor * 10"
      ]
    },
    {
      "cell_type": "code",
      "execution_count": null,
      "metadata": {
        "colab": {
          "background_save": true,
          "base_uri": "https://localhost:8080/"
        },
        "id": "OhvBg84ZNGE2",
        "outputId": "605123f3-9e99-4ed4-9cd1-af9b523900c1"
      },
      "outputs": [
        {
          "data": {
            "text/plain": [
              "<tf.Tensor: shape=(2, 2), dtype=int32, numpy=\n",
              "array([[ 0, -3],\n",
              "       [-7, -6]], dtype=int32)>"
            ]
          },
          "execution_count": 50,
          "metadata": {},
          "output_type": "execute_result"
        }
      ],
      "source": [
        "# Subtraction also\n",
        "tensor - 10"
      ]
    },
    {
      "cell_type": "code",
      "execution_count": null,
      "metadata": {
        "colab": {
          "background_save": true,
          "base_uri": "https://localhost:8080/"
        },
        "id": "zhCxq7LeNMDk",
        "outputId": "3ebefd13-d2c8-4c39-f146-21be7d628985"
      },
      "outputs": [
        {
          "data": {
            "text/plain": [
              "<tf.Tensor: shape=(2, 2), dtype=int32, numpy=\n",
              "array([[5, 3],\n",
              "       [1, 2]], dtype=int32)>"
            ]
          },
          "execution_count": 51,
          "metadata": {},
          "output_type": "execute_result"
        }
      ],
      "source": [
        "# division also work\n",
        "tensor // 2"
      ]
    },
    {
      "cell_type": "code",
      "execution_count": null,
      "metadata": {
        "colab": {
          "background_save": true,
          "base_uri": "https://localhost:8080/"
        },
        "id": "BvU9YjvXNPA8",
        "outputId": "4926694f-7f5a-4f67-8384-9a7e49f72c4d"
      },
      "outputs": [
        {
          "data": {
            "text/plain": [
              "<tf.Tensor: shape=(2, 2), dtype=int32, numpy=\n",
              "array([[100,  70],\n",
              "       [ 30,  40]], dtype=int32)>"
            ]
          },
          "execution_count": 52,
          "metadata": {},
          "output_type": "execute_result"
        }
      ],
      "source": [
        "# We can also do it by using the tensorflow built-in function too\n",
        "tf.multiply(tensor, 10)"
      ]
    },
    {
      "cell_type": "markdown",
      "metadata": {
        "id": "YFkf8L8kOIDN"
      },
      "source": [
        "> **Note** for larger tensor , use tensorflow inbuilt lib which gives better performance than hard code operation like basic or anyother things"
      ]
    },
    {
      "cell_type": "code",
      "execution_count": null,
      "metadata": {
        "colab": {
          "background_save": true,
          "base_uri": "https://localhost:8080/"
        },
        "id": "uKmZLmEcOGPm",
        "outputId": "86534ebf-fcd1-4bdc-c2a3-164d0a0f0fb6"
      },
      "outputs": [
        {
          "data": {
            "text/plain": [
              "<tf.Tensor: shape=(2, 2), dtype=int32, numpy=\n",
              "array([[10,  7],\n",
              "       [ 3,  4]], dtype=int32)>"
            ]
          },
          "execution_count": 53,
          "metadata": {},
          "output_type": "execute_result"
        }
      ],
      "source": [
        "# Doing all the operations even using inbuil library but original tensor didn't change\n",
        "tensor"
      ]
    },
    {
      "cell_type": "markdown",
      "metadata": {
        "id": "eofRRYgxO8x6"
      },
      "source": [
        "### Matrix mulitplication\n",
        "\n",
        "In machine learning, matrix multiplication is one of the most common tensor operations\n",
        "\n",
        "There are two rules our tensors (or matches) need to fulfil if we're going to matrix multiply them:\n",
        "1. The inner dimensions must match\n",
        "2. The resulting matrix has the shape of outer dimensions\n",
        "\n",
        "![image.png](data:image/png;base64,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)"
      ]
    },
    {
      "cell_type": "code",
      "execution_count": null,
      "metadata": {
        "colab": {
          "background_save": true,
          "base_uri": "https://localhost:8080/"
        },
        "id": "J6UECbzIPyU6",
        "outputId": "3a2bcb99-8f4d-493d-b44e-3b798adc6d6d"
      },
      "outputs": [
        {
          "name": "stdout",
          "output_type": "stream",
          "text": [
            "tf.Tensor(\n",
            "[[10  7]\n",
            " [ 3  4]], shape=(2, 2), dtype=int32)\n"
          ]
        },
        {
          "data": {
            "text/plain": [
              "<tf.Tensor: shape=(2, 2), dtype=int32, numpy=\n",
              "array([[121,  98],\n",
              "       [ 42,  37]], dtype=int32)>"
            ]
          },
          "execution_count": 54,
          "metadata": {},
          "output_type": "execute_result"
        }
      ],
      "source": [
        "print(tensor)\n",
        "tf.matmul(tensor, tensor)"
      ]
    },
    {
      "cell_type": "code",
      "execution_count": null,
      "metadata": {
        "colab": {
          "background_save": true,
          "base_uri": "https://localhost:8080/"
        },
        "id": "QbipYMEvQQ7A",
        "outputId": "911c3618-7847-4079-9564-705589076b8f"
      },
      "outputs": [
        {
          "data": {
            "text/plain": [
              "(<tf.Tensor: shape=(2, 2), dtype=int32, numpy=\n",
              " array([[10,  7],\n",
              "        [ 3,  4]], dtype=int32)>,\n",
              " <tf.Tensor: shape=(2, 2), dtype=int32, numpy=\n",
              " array([[10,  7],\n",
              "        [ 3,  4]], dtype=int32)>)"
            ]
          },
          "execution_count": 55,
          "metadata": {},
          "output_type": "execute_result"
        }
      ],
      "source": [
        "tensor, tensor\n"
      ]
    },
    {
      "cell_type": "code",
      "execution_count": null,
      "metadata": {
        "colab": {
          "background_save": true,
          "base_uri": "https://localhost:8080/"
        },
        "id": "2X8qm0ZWQqpY",
        "outputId": "a5f6b4d2-60d0-44c1-880f-a6a88d576b8d"
      },
      "outputs": [
        {
          "data": {
            "text/plain": [
              "<tf.Tensor: shape=(2, 2), dtype=int32, numpy=\n",
              "array([[100,  49],\n",
              "       [  9,  16]], dtype=int32)>"
            ]
          },
          "execution_count": 56,
          "metadata": {},
          "output_type": "execute_result"
        }
      ],
      "source": [
        "tensor * tensor  # it didn't follow the rule of matix multiplication , just doing it by element multiply with corresponding index element"
      ]
    },
    {
      "cell_type": "code",
      "execution_count": null,
      "metadata": {
        "colab": {
          "background_save": true,
          "base_uri": "https://localhost:8080/"
        },
        "id": "H0Ty1qT8QtoH",
        "outputId": "a8c3971e-8888-4c9a-e696-6dd8cb7ff408"
      },
      "outputs": [
        {
          "data": {
            "text/plain": [
              "<tf.Tensor: shape=(2, 2), dtype=int32, numpy=\n",
              "array([[121,  98],\n",
              "       [ 42,  37]], dtype=int32)>"
            ]
          },
          "execution_count": 57,
          "metadata": {},
          "output_type": "execute_result"
        }
      ],
      "source": [
        "# Matrix multiplication with Python operator `@` symbol\n",
        "tensor @ tensor"
      ]
    },
    {
      "cell_type": "code",
      "execution_count": null,
      "metadata": {
        "colab": {
          "background_save": true,
          "base_uri": "https://localhost:8080/"
        },
        "id": "KO3kzidxROj4",
        "outputId": "065d6764-e703-4f7d-9b5e-ab1f5b4b8e1d"
      },
      "outputs": [
        {
          "data": {
            "text/plain": [
              "TensorShape([2, 2])"
            ]
          },
          "execution_count": 58,
          "metadata": {},
          "output_type": "execute_result"
        }
      ],
      "source": [
        "tensor.shape"
      ]
    },
    {
      "cell_type": "code",
      "execution_count": null,
      "metadata": {
        "colab": {
          "background_save": true
        },
        "id": "uCcE3j_CRVnF"
      },
      "outputs": [],
      "source": [
        "# create a tensor (3,2) tensor\n",
        "x = tf.constant([[1, 2],\n",
        "                 [3, 4],\n",
        "                 [5, 6]])\n",
        "\n",
        "y = tf.constant([[7, 8],\n",
        "                 [9, 10],\n",
        "                 [11, 12]])\n"
      ]
    },
    {
      "cell_type": "code",
      "execution_count": null,
      "metadata": {
        "colab": {
          "background_save": true,
          "base_uri": "https://localhost:8080/"
        },
        "id": "VUBDU9J8SJ9m",
        "outputId": "a9bddcb6-c1c8-4994-cd24-a270f03e253d"
      },
      "outputs": [
        {
          "data": {
            "text/plain": [
              "(array([[1, 2],\n",
              "        [3, 4],\n",
              "        [5, 6]], dtype=int32),\n",
              " array([[ 7,  8],\n",
              "        [ 9, 10],\n",
              "        [11, 12]], dtype=int32))"
            ]
          },
          "execution_count": 60,
          "metadata": {},
          "output_type": "execute_result"
        }
      ],
      "source": [
        "x.numpy(), y.numpy()"
      ]
    },
    {
      "cell_type": "code",
      "execution_count": null,
      "metadata": {
        "colab": {
          "background_save": true,
          "base_uri": "https://localhost:8080/"
        },
        "id": "16yc10bPWxU8",
        "outputId": "48339aad-19e2-4540-f505-b53056ad97a1"
      },
      "outputs": [
        {
          "data": {
            "text/plain": [
              "(TensorShape([3, 2]), TensorShape([3, 2]))"
            ]
          },
          "execution_count": 61,
          "metadata": {},
          "output_type": "execute_result"
        }
      ],
      "source": [
        "x.shape, y.shape"
      ]
    },
    {
      "cell_type": "code",
      "execution_count": null,
      "metadata": {
        "colab": {
          "background_save": true,
          "base_uri": "https://localhost:8080/"
        },
        "id": "OxdE12jaSLDw",
        "outputId": "c9fd5543-5486-4bf3-f8b0-81bdc42e6edd"
      },
      "outputs": [
        {
          "data": {
            "text/plain": [
              "<tf.Tensor: shape=(3, 2), dtype=int32, numpy=\n",
              "array([[ 7, 16],\n",
              "       [27, 40],\n",
              "       [55, 72]], dtype=int32)>"
            ]
          },
          "execution_count": 62,
          "metadata": {},
          "output_type": "execute_result"
        }
      ],
      "source": [
        "# Try to matrix multiply tensors of same shape\n",
        "x * y  # working bec it does not follow matric mult. law\n",
        "# Compatible shapes: [3,2] vs. [3,2] but not size"
      ]
    },
    {
      "cell_type": "code",
      "execution_count": null,
      "metadata": {
        "colab": {
          "background_save": true
        },
        "id": "1GAKKrRlScLR"
      },
      "outputs": [],
      "source": [
        "# x @ y  # Matrix size-incompatible: In[0]: [3,2], In[1]: [3,2]"
      ]
    },
    {
      "cell_type": "code",
      "execution_count": null,
      "metadata": {
        "colab": {
          "background_save": true
        },
        "id": "4HPMaEEYXwk2"
      },
      "outputs": [],
      "source": [
        "# tf.matmul(x, y) # Matrix size-incompatible: In[0]: [3,2], In[1]: [3,2]"
      ]
    },
    {
      "cell_type": "code",
      "execution_count": null,
      "metadata": {
        "colab": {
          "background_save": true,
          "base_uri": "https://localhost:8080/"
        },
        "id": "HgC_dwyuSyG8",
        "outputId": "c15baa6a-cc33-441b-e179-bbbf3eff79e7"
      },
      "outputs": [
        {
          "data": {
            "text/plain": [
              "(<tf.Tensor: shape=(2, 3), dtype=int32, numpy=\n",
              " array([[ 7,  8,  9],\n",
              "        [10, 11, 12]], dtype=int32)>,)"
            ]
          },
          "execution_count": 65,
          "metadata": {},
          "output_type": "execute_result"
        }
      ],
      "source": [
        "# Let's change the shape of y\n",
        "reshaped_y= tf.reshape(y, (2, 3))\n",
        "reshaped_y,"
      ]
    },
    {
      "cell_type": "code",
      "execution_count": null,
      "metadata": {
        "colab": {
          "background_save": true
        },
        "id": "ygqYt50NUU5u"
      },
      "outputs": [],
      "source": [
        "# x * reshaped_y  #Incompatible shapes: [3,2] vs. [2,3]"
      ]
    },
    {
      "cell_type": "code",
      "execution_count": null,
      "metadata": {
        "colab": {
          "background_save": true,
          "base_uri": "https://localhost:8080/"
        },
        "id": "lF50cDeJUr-E",
        "outputId": "50103ea5-faaa-4794-bf01-2e7672740b15"
      },
      "outputs": [
        {
          "data": {
            "text/plain": [
              "<tf.Tensor: shape=(3, 3), dtype=int32, numpy=\n",
              "array([[ 27,  30,  33],\n",
              "       [ 61,  68,  75],\n",
              "       [ 95, 106, 117]], dtype=int32)>"
            ]
          },
          "execution_count": 67,
          "metadata": {},
          "output_type": "execute_result"
        }
      ],
      "source": [
        "x @ reshaped_y"
      ]
    },
    {
      "cell_type": "code",
      "execution_count": null,
      "metadata": {
        "colab": {
          "background_save": true,
          "base_uri": "https://localhost:8080/"
        },
        "id": "W9XcBIveU363",
        "outputId": "f8422153-d9d5-46ad-f3b8-ac2d46f2bd2f"
      },
      "outputs": [
        {
          "data": {
            "text/plain": [
              "<tf.Tensor: shape=(3, 3), dtype=int32, numpy=\n",
              "array([[ 27,  30,  33],\n",
              "       [ 61,  68,  75],\n",
              "       [ 95, 106, 117]], dtype=int32)>"
            ]
          },
          "execution_count": 68,
          "metadata": {},
          "output_type": "execute_result"
        }
      ],
      "source": [
        "tf.matmul(x, reshaped_y)"
      ]
    },
    {
      "cell_type": "code",
      "execution_count": null,
      "metadata": {
        "colab": {
          "background_save": true,
          "base_uri": "https://localhost:8080/"
        },
        "id": "eCez8JoXWai8",
        "outputId": "f152d6b8-d09e-4f7c-bff1-9bc17238d8d0"
      },
      "outputs": [
        {
          "data": {
            "text/plain": [
              "(<tf.Tensor: shape=(3, 2), dtype=int32, numpy=\n",
              " array([[1, 2],\n",
              "        [3, 4],\n",
              "        [5, 6]], dtype=int32)>,\n",
              " <tf.Tensor: shape=(2, 3), dtype=int32, numpy=\n",
              " array([[1, 3, 5],\n",
              "        [2, 4, 6]], dtype=int32)>,\n",
              " <tf.Tensor: shape=(2, 3), dtype=int32, numpy=\n",
              " array([[1, 2, 3],\n",
              "        [4, 5, 6]], dtype=int32)>)"
            ]
          },
          "execution_count": 69,
          "metadata": {},
          "output_type": "execute_result"
        }
      ],
      "source": [
        "# Can do the same with transpose\n",
        "x, tf.transpose(x), tf.reshape(x, shape=(2, 3))"
      ]
    },
    {
      "cell_type": "code",
      "execution_count": null,
      "metadata": {
        "colab": {
          "background_save": true,
          "base_uri": "https://localhost:8080/"
        },
        "id": "gPSuGn72Z_6C",
        "outputId": "9bc36b71-7416-4b14-d958-3c54cb8ad15a"
      },
      "outputs": [
        {
          "data": {
            "text/plain": [
              "(<tf.Tensor: shape=(2, 2), dtype=int32, numpy=\n",
              " array([[ 89,  98],\n",
              "        [116, 128]], dtype=int32)>,\n",
              " <tf.Tensor: shape=(3, 3), dtype=int32, numpy=\n",
              " array([[ 23,  29,  35],\n",
              "        [ 53,  67,  81],\n",
              "        [ 83, 105, 127]], dtype=int32)>)"
            ]
          },
          "execution_count": 70,
          "metadata": {},
          "output_type": "execute_result"
        }
      ],
      "source": [
        "# Try matrix multiplication with transpose rather than reshape\n",
        "tf.matmul(tf.transpose(x), y), tf.matmul(x, tf.transpose(y))"
      ]
    },
    {
      "cell_type": "markdown",
      "metadata": {
        "id": "5Ym7tOP_bCU6"
      },
      "source": [
        "### **The dot product**\n",
        "Matrix multiplication is also referred to as the dot product.\n",
        "You can perform matrix multiplication using:\n",
        "* `tf.matmul()`\n",
        "* `tf.tensordot()`\n",
        "* `@`"
      ]
    },
    {
      "cell_type": "code",
      "execution_count": null,
      "metadata": {
        "colab": {
          "background_save": true,
          "base_uri": "https://localhost:8080/"
        },
        "id": "eaxzCmvPaUko",
        "outputId": "2e3db282-99a3-442d-d599-e89030498633"
      },
      "outputs": [
        {
          "data": {
            "text/plain": [
              "<tf.Tensor: shape=(2, 2), dtype=int32, numpy=\n",
              "array([[ 89,  98],\n",
              "       [116, 128]], dtype=int32)>"
            ]
          },
          "execution_count": 71,
          "metadata": {},
          "output_type": "execute_result"
        }
      ],
      "source": [
        "# Perform the dot product on x and y (requires x or y to be transposed)\n",
        "tf.tensordot(tf.transpose(x), y ,axes = 1)"
      ]
    },
    {
      "cell_type": "code",
      "execution_count": null,
      "metadata": {
        "colab": {
          "background_save": true,
          "base_uri": "https://localhost:8080/"
        },
        "id": "eN7xJylzcrq8",
        "outputId": "c9a0242b-83f8-4d3d-99cf-ba71dc102516"
      },
      "outputs": [
        {
          "data": {
            "text/plain": [
              "<tf.Tensor: shape=(3, 3), dtype=int32, numpy=\n",
              "array([[ 23,  29,  35],\n",
              "       [ 53,  67,  81],\n",
              "       [ 83, 105, 127]], dtype=int32)>"
            ]
          },
          "execution_count": 72,
          "metadata": {},
          "output_type": "execute_result"
        }
      ],
      "source": [
        "# Perform matrix multplication between x and y (transposed)\n",
        "tf.matmul(x, tf.transpose(y))"
      ]
    },
    {
      "cell_type": "code",
      "execution_count": null,
      "metadata": {
        "colab": {
          "background_save": true,
          "base_uri": "https://localhost:8080/"
        },
        "id": "trLhYl0Fc_oV",
        "outputId": "27eba5bf-79ad-4305-b865-b6b9e7a1e3c0"
      },
      "outputs": [
        {
          "data": {
            "text/plain": [
              "<tf.Tensor: shape=(3, 3), dtype=int32, numpy=\n",
              "array([[ 27,  30,  33],\n",
              "       [ 61,  68,  75],\n",
              "       [ 95, 106, 117]], dtype=int32)>"
            ]
          },
          "execution_count": 73,
          "metadata": {},
          "output_type": "execute_result"
        }
      ],
      "source": [
        "# Perform matrix multiplication between x and y (reshaped)\n",
        "tf.matmul(x, tf.reshape(y, shape=(2, 3)))"
      ]
    },
    {
      "cell_type": "code",
      "execution_count": null,
      "metadata": {
        "colab": {
          "background_save": true,
          "base_uri": "https://localhost:8080/"
        },
        "id": "JzMEAIA5dM4j",
        "outputId": "c3fc7c4d-bd7a-4477-baeb-70812c4c12de"
      },
      "outputs": [
        {
          "name": "stdout",
          "output_type": "stream",
          "text": [
            "Normal Y:\n",
            "tf.Tensor(\n",
            "[[ 7  8]\n",
            " [ 9 10]\n",
            " [11 12]], shape=(3, 2), dtype=int32) \n",
            "\n",
            "y reshaped to (2, 3):\n",
            "tf.Tensor(\n",
            "[[ 7  8  9]\n",
            " [10 11 12]], shape=(2, 3), dtype=int32) \n",
            "\n",
            "y transposed:\n",
            "tf.Tensor(\n",
            "[[ 7  9 11]\n",
            " [ 8 10 12]], shape=(2, 3), dtype=int32)\n"
          ]
        }
      ],
      "source": [
        "# check the values of y, reshape y and transposed y\n",
        "print(\"Normal Y:\")\n",
        "print(y, '\\n')\n",
        "print('y reshaped to (2, 3):')\n",
        "print(tf.reshape(y, (2, 3)), '\\n')\n",
        "print(\"y transposed:\")\n",
        "print(tf.transpose(y))"
      ]
    },
    {
      "cell_type": "code",
      "execution_count": null,
      "metadata": {
        "colab": {
          "background_save": true,
          "base_uri": "https://localhost:8080/"
        },
        "id": "MeBrHpCaedav",
        "outputId": "d5eee28b-e9ed-46bb-8225-cbfaa8bbeef0"
      },
      "outputs": [
        {
          "data": {
            "text/plain": [
              "<tf.Tensor: shape=(3, 3), dtype=int32, numpy=\n",
              "array([[ 23,  29,  35],\n",
              "       [ 53,  67,  81],\n",
              "       [ 83, 105, 127]], dtype=int32)>"
            ]
          },
          "execution_count": 75,
          "metadata": {},
          "output_type": "execute_result"
        }
      ],
      "source": [
        "tf.matmul(x, tf.transpose(y))"
      ]
    },
    {
      "cell_type": "markdown",
      "metadata": {
        "id": "KpCj5PThfYFo"
      },
      "source": [
        ">**Note** Generally, when performing matrix multiplication on two tensors and one of the axes doesn't line up, you will transpose(rather than reshaping) one of the tensors to get satisfy the matrix multiplication rule."
      ]
    },
    {
      "cell_type": "markdown",
      "metadata": {
        "id": "8peqd7Hy_IEB"
      },
      "source": [
        "### Changing the datatype of a tensor"
      ]
    },
    {
      "cell_type": "code",
      "execution_count": null,
      "metadata": {
        "colab": {
          "background_save": true,
          "base_uri": "https://localhost:8080/",
          "height": 36
        },
        "id": "TFfoVny3_OxB",
        "outputId": "d61e5f55-ee60-4051-a78a-7650cd5fee71"
      },
      "outputs": [
        {
          "data": {
            "application/vnd.google.colaboratory.intrinsic+json": {
              "type": "string"
            },
            "text/plain": [
              "'2.18.0'"
            ]
          },
          "execution_count": 76,
          "metadata": {},
          "output_type": "execute_result"
        }
      ],
      "source": [
        "tf.__version__\n"
      ]
    },
    {
      "cell_type": "code",
      "execution_count": null,
      "metadata": {
        "colab": {
          "background_save": true,
          "base_uri": "https://localhost:8080/"
        },
        "id": "2nmYa3jf_R0Y",
        "outputId": "ccc0df60-2d44-4c95-a006-2a9601e6bcf2"
      },
      "outputs": [
        {
          "data": {
            "text/plain": [
              "(<tf.Tensor: shape=(24,), dtype=int32, numpy=\n",
              " array([ 1,  2,  3,  4,  5,  6,  7,  8,  9, 10, 11, 12, 13, 14, 15, 16, 17,\n",
              "        18, 19, 20, 21, 22, 23, 24], dtype=int32)>,\n",
              " tf.float32)"
            ]
          },
          "execution_count": 77,
          "metadata": {},
          "output_type": "execute_result"
        }
      ],
      "source": [
        "# Create a new tensor with default datatype (float32)\n",
        "b = tf.constant([1.7, 7.4])\n",
        "B, b.dtype"
      ]
    },
    {
      "cell_type": "code",
      "execution_count": null,
      "metadata": {
        "colab": {
          "background_save": true,
          "base_uri": "https://localhost:8080/"
        },
        "id": "DPdC7OUT_jfD",
        "outputId": "979d91a7-06fb-4035-ba36-7c00dfc685fd"
      },
      "outputs": [
        {
          "data": {
            "text/plain": [
              "(<tf.Tensor: shape=(2,), dtype=int32, numpy=array([ 7, 10], dtype=int32)>,\n",
              " tf.int32)"
            ]
          },
          "execution_count": 78,
          "metadata": {},
          "output_type": "execute_result"
        }
      ],
      "source": [
        "c = tf.constant([7, 10])\n",
        "c, c.dtype"
      ]
    },
    {
      "cell_type": "code",
      "execution_count": null,
      "metadata": {
        "colab": {
          "background_save": true,
          "base_uri": "https://localhost:8080/"
        },
        "id": "Gn5zOvT4_tHV",
        "outputId": "9f096b45-fe04-404b-fad2-7027dafff377"
      },
      "outputs": [
        {
          "data": {
            "text/plain": [
              "(<tf.Tensor: shape=(2,), dtype=float16, numpy=array([1.7, 7.4], dtype=float16)>,\n",
              " tf.float16)"
            ]
          },
          "execution_count": 79,
          "metadata": {},
          "output_type": "execute_result"
        }
      ],
      "source": [
        "# Change from float32 to float16 (reduced precision)\n",
        "D = tf.cast(b, dtype=tf.float16)\n",
        "D, D.dtype"
      ]
    },
    {
      "cell_type": "code",
      "execution_count": null,
      "metadata": {
        "colab": {
          "background_save": true,
          "base_uri": "https://localhost:8080/"
        },
        "id": "9t6AJcQABWmU",
        "outputId": "be858a95-463c-49e4-a934-7dcc23751d1d"
      },
      "outputs": [
        {
          "data": {
            "text/plain": [
              "(<tf.Tensor: shape=(2,), dtype=float32, numpy=array([ 7., 10.], dtype=float32)>,\n",
              " tf.float32)"
            ]
          },
          "execution_count": 80,
          "metadata": {},
          "output_type": "execute_result"
        }
      ],
      "source": [
        "# Change from int32 to float32\n",
        "E = tf.cast(c, dtype=tf.float32)\n",
        "E, E.dtype"
      ]
    },
    {
      "cell_type": "code",
      "execution_count": null,
      "metadata": {
        "colab": {
          "background_save": true,
          "base_uri": "https://localhost:8080/"
        },
        "id": "T7uM9XOmB7Mf",
        "outputId": "17347be8-bb4b-4ff5-d62f-ec247a95538f"
      },
      "outputs": [
        {
          "data": {
            "text/plain": [
              "<tf.Tensor: shape=(2,), dtype=float16, numpy=array([ 7., 10.], dtype=float16)>"
            ]
          },
          "execution_count": 81,
          "metadata": {},
          "output_type": "execute_result"
        }
      ],
      "source": [
        "E_float16 = tf.cast(E, dtype=tf.float16)\n",
        "E_float16"
      ]
    },
    {
      "cell_type": "markdown",
      "metadata": {
        "id": "8qCdikGbCaDF"
      },
      "source": [
        "### Aggregating tensors\n",
        "Aggregating tensors = condensing them from multiple values down to a smaller amount of values"
      ]
    },
    {
      "cell_type": "code",
      "execution_count": null,
      "metadata": {
        "colab": {
          "background_save": true,
          "base_uri": "https://localhost:8080/"
        },
        "id": "gi2cOjTfCM4Z",
        "outputId": "726d6de4-adf2-4b38-b1ae-08ad87844832"
      },
      "outputs": [
        {
          "data": {
            "text/plain": [
              "<tf.Tensor: shape=(2,), dtype=int32, numpy=array([ -7, -10], dtype=int32)>"
            ]
          },
          "execution_count": 82,
          "metadata": {},
          "output_type": "execute_result"
        }
      ],
      "source": [
        "#Get the absolute values\n",
        "D = tf.constant([-7, -10])\n",
        "D"
      ]
    },
    {
      "cell_type": "code",
      "execution_count": null,
      "metadata": {
        "colab": {
          "background_save": true,
          "base_uri": "https://localhost:8080/"
        },
        "id": "PKdBuXy2Ecgg",
        "outputId": "0a604beb-c1a4-4982-b7b8-60094ba2d790"
      },
      "outputs": [
        {
          "data": {
            "text/plain": [
              "<tf.Tensor: shape=(2,), dtype=int32, numpy=array([ 7, 10], dtype=int32)>"
            ]
          },
          "execution_count": 83,
          "metadata": {},
          "output_type": "execute_result"
        }
      ],
      "source": [
        "tf.abs(D)"
      ]
    },
    {
      "cell_type": "markdown",
      "metadata": {
        "id": "KBz9y9W9EgdQ"
      },
      "source": [
        "Let's go through the following forms of aggregation:\n",
        "* Get the minimum\n",
        "* Get the maximum\n",
        "* Get the mean of tensor\n",
        "* Get the sum of tensor"
      ]
    },
    {
      "cell_type": "code",
      "execution_count": null,
      "metadata": {
        "colab": {
          "background_save": true,
          "base_uri": "https://localhost:8080/"
        },
        "id": "OdR-1XjdE0F9",
        "outputId": "a03d52fa-6a5e-4dca-d1ac-2a84d60e6c27"
      },
      "outputs": [
        {
          "data": {
            "text/plain": [
              "<tf.Tensor: shape=(50,), dtype=int64, numpy=\n",
              "array([ 8, 43, 49,  1,  9, 57, 85, 38,  9, 75, 68, 31, 47, 90, 79, 74, 40,\n",
              "       61, 21, 97, 20, 35, 67, 13, 86, 63, 79, 69, 73, 23, 19, 37, 62,  3,\n",
              "       72, 62, 67, 86, 59, 20,  6, 76, 44, 90, 50, 84, 32, 62, 24, 30])>"
            ]
          },
          "execution_count": 84,
          "metadata": {},
          "output_type": "execute_result"
        }
      ],
      "source": [
        "# Create a random tensor with values between 0 and 100 of size 50\n",
        "E = tf.constant(np.random.randint(0, 100, size = 50))\n",
        "E"
      ]
    },
    {
      "cell_type": "code",
      "execution_count": null,
      "metadata": {
        "colab": {
          "background_save": true,
          "base_uri": "https://localhost:8080/"
        },
        "id": "0s590zxPF2Gt",
        "outputId": "536ac467-4aee-4180-f7af-4af30094668a"
      },
      "outputs": [
        {
          "data": {
            "text/plain": [
              "(<tf.Tensor: shape=(), dtype=int32, numpy=50>, TensorShape([50]), 1)"
            ]
          },
          "execution_count": 85,
          "metadata": {},
          "output_type": "execute_result"
        }
      ],
      "source": [
        "tf.size(E), E.shape, E.ndim"
      ]
    },
    {
      "cell_type": "code",
      "execution_count": null,
      "metadata": {
        "colab": {
          "background_save": true,
          "base_uri": "https://localhost:8080/"
        },
        "id": "Dcl3kFBTGBCZ",
        "outputId": "c542544e-7731-4d4f-c757-15a62cd3b9ac"
      },
      "outputs": [
        {
          "data": {
            "text/plain": [
              "(<tf.Tensor: shape=(), dtype=int64, numpy=1>, np.int64(1))"
            ]
          },
          "execution_count": 86,
          "metadata": {},
          "output_type": "execute_result"
        }
      ],
      "source": [
        "# Find the minimum\n",
        "tf.reduce_min(E), np.min(E.numpy())"
      ]
    },
    {
      "cell_type": "code",
      "execution_count": null,
      "metadata": {
        "colab": {
          "background_save": true,
          "base_uri": "https://localhost:8080/"
        },
        "id": "tg68na7DGU63",
        "outputId": "891f7536-e895-4830-c998-d3de315f8b64"
      },
      "outputs": [
        {
          "data": {
            "text/plain": [
              "(<tf.Tensor: shape=(), dtype=int64, numpy=97>, np.int64(97))"
            ]
          },
          "execution_count": 87,
          "metadata": {},
          "output_type": "execute_result"
        }
      ],
      "source": [
        "# Find the maximum\n",
        "tf.reduce_max(E) , np.max(E.numpy())"
      ]
    },
    {
      "cell_type": "code",
      "execution_count": null,
      "metadata": {
        "colab": {
          "background_save": true,
          "base_uri": "https://localhost:8080/"
        },
        "id": "E_0LfxpxGY9F",
        "outputId": "4dba7fa6-9199-4ef2-8dd4-c1551818f5da"
      },
      "outputs": [
        {
          "data": {
            "text/plain": [
              "(<tf.Tensor: shape=(), dtype=int64, numpy=49>, np.float64(49.9))"
            ]
          },
          "execution_count": 88,
          "metadata": {},
          "output_type": "execute_result"
        }
      ],
      "source": [
        "# Find the mean\n",
        "tf.reduce_mean(E), np.mean(E.numpy())"
      ]
    },
    {
      "cell_type": "code",
      "execution_count": null,
      "metadata": {
        "colab": {
          "background_save": true,
          "base_uri": "https://localhost:8080/"
        },
        "id": "CEXGsQ0wHJ5Z",
        "outputId": "d817fa89-2684-494a-8025-4eba4ad23df6"
      },
      "outputs": [
        {
          "data": {
            "text/plain": [
              "(<tf.Tensor: shape=(), dtype=int64, numpy=2495>, np.int64(2495))"
            ]
          },
          "execution_count": 89,
          "metadata": {},
          "output_type": "execute_result"
        }
      ],
      "source": [
        "# Find the sum\n",
        "tf.reduce_sum(E), np.sum(E.numpy())"
      ]
    },
    {
      "cell_type": "markdown",
      "metadata": {
        "id": "prkU2g23HUku"
      },
      "source": [
        "**Exercise:** With what we've just learned, find the variance and standard deviation of our `E` tensor using TensorFlow methods."
      ]
    },
    {
      "cell_type": "code",
      "execution_count": null,
      "metadata": {
        "colab": {
          "background_save": true
        },
        "id": "DCKN_muvMUSv"
      },
      "outputs": [],
      "source": [
        "import tensorflow_probability as tfp"
      ]
    },
    {
      "cell_type": "code",
      "execution_count": null,
      "metadata": {
        "colab": {
          "background_save": true,
          "base_uri": "https://localhost:8080/"
        },
        "id": "LKTmlFcUICQf",
        "outputId": "d3cd3375-33ab-4ba2-b875-d54bd4f35497"
      },
      "outputs": [
        {
          "data": {
            "text/plain": [
              "<tf.Tensor: shape=(), dtype=int64, numpy=739>"
            ]
          },
          "execution_count": 91,
          "metadata": {},
          "output_type": "execute_result"
        }
      ],
      "source": [
        "# Find the variance of our tensor\n",
        "tfp.stats.variance(E) # first we need to import tensorflow_probability"
      ]
    },
    {
      "cell_type": "code",
      "execution_count": null,
      "metadata": {
        "colab": {
          "background_save": true,
          "base_uri": "https://localhost:8080/"
        },
        "id": "S5Ki4o39OkT5",
        "outputId": "0c86f597-1f27-4532-93f9-b4c079c7f783"
      },
      "outputs": [
        {
          "data": {
            "text/plain": [
              "<tf.Tensor: shape=(), dtype=float32, numpy=738.6900024414062>"
            ]
          },
          "execution_count": 92,
          "metadata": {},
          "output_type": "execute_result"
        }
      ],
      "source": [
        "# Another way without  using tensorflow_probability\n",
        "tf.math.reduce_variance(tf.cast(E, dtype = tf.float32))"
      ]
    },
    {
      "cell_type": "code",
      "execution_count": null,
      "metadata": {
        "colab": {
          "background_save": true,
          "base_uri": "https://localhost:8080/"
        },
        "id": "BROO21XhMRcz",
        "outputId": "7e169d23-b7bb-4f97-ee1b-e699b749b74e"
      },
      "outputs": [
        {
          "data": {
            "text/plain": [
              "<tf.Tensor: shape=(), dtype=float32, numpy=27.178852081298828>"
            ]
          },
          "execution_count": 93,
          "metadata": {},
          "output_type": "execute_result"
        }
      ],
      "source": [
        "# Find the standard deviation\n",
        "tf.math.reduce_std(tf.cast(E, dtype = tf.float32))"
      ]
    },
    {
      "cell_type": "markdown",
      "metadata": {
        "id": "wpsOM5Y_OzPw"
      },
      "source": [
        "### Find the positional maximum and minimum"
      ]
    },
    {
      "cell_type": "code",
      "execution_count": null,
      "metadata": {
        "colab": {
          "background_save": true,
          "base_uri": "https://localhost:8080/"
        },
        "id": "PWBEPpDBNHrd",
        "outputId": "c6d3f8c9-b110-4682-a5ea-c7dc3f902cca"
      },
      "outputs": [
        {
          "data": {
            "text/plain": [
              "<tf.Tensor: shape=(50,), dtype=float32, numpy=\n",
              "array([0.6645621 , 0.44100678, 0.3528825 , 0.46448255, 0.03366041,\n",
              "       0.68467236, 0.74011743, 0.8724445 , 0.22632635, 0.22319686,\n",
              "       0.3103881 , 0.7223358 , 0.13318717, 0.5480639 , 0.5746088 ,\n",
              "       0.8996835 , 0.00946367, 0.5212307 , 0.6345445 , 0.1993283 ,\n",
              "       0.72942245, 0.54583454, 0.10756552, 0.6767061 , 0.6602763 ,\n",
              "       0.33695042, 0.60141766, 0.21062577, 0.8527372 , 0.44062173,\n",
              "       0.9485276 , 0.23752594, 0.81179297, 0.5263394 , 0.494308  ,\n",
              "       0.21612847, 0.8457197 , 0.8718841 , 0.3083862 , 0.6868038 ,\n",
              "       0.23764038, 0.7817228 , 0.9671384 , 0.06870162, 0.79873943,\n",
              "       0.66028714, 0.5871513 , 0.16461694, 0.7381023 , 0.32054043],\n",
              "      dtype=float32)>"
            ]
          },
          "execution_count": 94,
          "metadata": {},
          "output_type": "execute_result"
        }
      ],
      "source": [
        "# Create a new tensor for finding positional minimum and maximum\n",
        "tf.random.set_seed(42)\n",
        "F = tf.random.uniform(shape=[50])\n",
        "F"
      ]
    },
    {
      "cell_type": "code",
      "execution_count": null,
      "metadata": {
        "colab": {
          "background_save": true,
          "base_uri": "https://localhost:8080/"
        },
        "id": "ceki0PcCREnG",
        "outputId": "40c82742-edbb-41f2-80a7-4e2dbd07dead"
      },
      "outputs": [
        {
          "data": {
            "text/plain": [
              "<tf.Tensor: shape=(), dtype=int64, numpy=42>"
            ]
          },
          "execution_count": 95,
          "metadata": {},
          "output_type": "execute_result"
        }
      ],
      "source": [
        "# find the positional maximum\n",
        "tf.argmax(F)"
      ]
    },
    {
      "cell_type": "code",
      "execution_count": null,
      "metadata": {
        "colab": {
          "background_save": true,
          "base_uri": "https://localhost:8080/"
        },
        "id": "lN2TyjuTRQBb",
        "outputId": "a764b917-3d36-4913-f54e-6293d62be86f"
      },
      "outputs": [
        {
          "data": {
            "text/plain": [
              "<tf.Tensor: shape=(), dtype=float32, numpy=0.967138409614563>"
            ]
          },
          "execution_count": 96,
          "metadata": {},
          "output_type": "execute_result"
        }
      ],
      "source": [
        "# Index on our largest value position\n",
        "F[tf.argmax(F)]"
      ]
    },
    {
      "cell_type": "code",
      "execution_count": null,
      "metadata": {
        "colab": {
          "background_save": true,
          "base_uri": "https://localhost:8080/"
        },
        "id": "DH_tLcTzRbrF",
        "outputId": "1b30a0c4-844e-4a6d-a005-45528db82426"
      },
      "outputs": [
        {
          "data": {
            "text/plain": [
              "<tf.Tensor: shape=(), dtype=float32, numpy=0.967138409614563>"
            ]
          },
          "execution_count": 97,
          "metadata": {},
          "output_type": "execute_result"
        }
      ],
      "source": [
        "# Find the max value of F\n",
        "tf.reduce_max(F)"
      ]
    },
    {
      "cell_type": "code",
      "execution_count": null,
      "metadata": {
        "colab": {
          "background_save": true,
          "base_uri": "https://localhost:8080/"
        },
        "id": "5ch4h7CWRq5o",
        "outputId": "05f0e89a-e5e7-4123-f674-420a509775e2"
      },
      "outputs": [
        {
          "data": {
            "text/plain": [
              "<tf.Tensor: shape=(), dtype=bool, numpy=True>"
            ]
          },
          "execution_count": 98,
          "metadata": {},
          "output_type": "execute_result"
        }
      ],
      "source": [
        "# check for equality\n",
        "F[tf.argmax(F)] == tf.reduce_max(F)"
      ]
    },
    {
      "cell_type": "code",
      "execution_count": null,
      "metadata": {
        "colab": {
          "background_save": true,
          "base_uri": "https://localhost:8080/"
        },
        "id": "0G5CpqKoSJat",
        "outputId": "a069a6a4-6905-47d4-d07f-6036843bb4a7"
      },
      "outputs": [
        {
          "data": {
            "text/plain": [
              "<tf.Tensor: shape=(), dtype=int64, numpy=16>"
            ]
          },
          "execution_count": 99,
          "metadata": {},
          "output_type": "execute_result"
        }
      ],
      "source": [
        "# Find the positional minimum\n",
        "tf.argmin(F)"
      ]
    },
    {
      "cell_type": "code",
      "execution_count": null,
      "metadata": {
        "colab": {
          "background_save": true,
          "base_uri": "https://localhost:8080/"
        },
        "id": "JEW-hoqfSP4g",
        "outputId": "150181a6-37d5-49f1-e8ba-c505538bc1d6"
      },
      "outputs": [
        {
          "data": {
            "text/plain": [
              "<tf.Tensor: shape=(), dtype=float32, numpy=0.009463667869567871>"
            ]
          },
          "execution_count": 100,
          "metadata": {},
          "output_type": "execute_result"
        }
      ],
      "source": [
        "# Find the minimum using the positional minimum index\n",
        "F[tf.argmin(F)]"
      ]
    },
    {
      "cell_type": "markdown",
      "metadata": {
        "id": "jpJ0iFaBSYa6"
      },
      "source": [
        "### Squeezing a tensor (removing all single dimensions)"
      ]
    },
    {
      "cell_type": "code",
      "execution_count": null,
      "metadata": {
        "colab": {
          "background_save": true,
          "base_uri": "https://localhost:8080/"
        },
        "id": "0Wh6CYypTH-7",
        "outputId": "73a26584-3933-4d9d-c836-9b46655d1b8b"
      },
      "outputs": [
        {
          "data": {
            "text/plain": [
              "<tf.Tensor: shape=(1, 1, 1, 1, 50), dtype=float32, numpy=\n",
              "array([[[[[0.6645621 , 0.44100678, 0.3528825 , 0.46448255, 0.03366041,\n",
              "           0.68467236, 0.74011743, 0.8724445 , 0.22632635, 0.22319686,\n",
              "           0.3103881 , 0.7223358 , 0.13318717, 0.5480639 , 0.5746088 ,\n",
              "           0.8996835 , 0.00946367, 0.5212307 , 0.6345445 , 0.1993283 ,\n",
              "           0.72942245, 0.54583454, 0.10756552, 0.6767061 , 0.6602763 ,\n",
              "           0.33695042, 0.60141766, 0.21062577, 0.8527372 , 0.44062173,\n",
              "           0.9485276 , 0.23752594, 0.81179297, 0.5263394 , 0.494308  ,\n",
              "           0.21612847, 0.8457197 , 0.8718841 , 0.3083862 , 0.6868038 ,\n",
              "           0.23764038, 0.7817228 , 0.9671384 , 0.06870162, 0.79873943,\n",
              "           0.66028714, 0.5871513 , 0.16461694, 0.7381023 , 0.32054043]]]]],\n",
              "      dtype=float32)>"
            ]
          },
          "execution_count": 101,
          "metadata": {},
          "output_type": "execute_result"
        }
      ],
      "source": [
        "# Create a tensor to get started\n",
        "tf.random.set_seed(42)\n",
        "G = tf.constant(tf.random.uniform(shape=[50]), shape=(1,1,1,1,50))\n",
        "G"
      ]
    },
    {
      "cell_type": "code",
      "execution_count": null,
      "metadata": {
        "colab": {
          "background_save": true,
          "base_uri": "https://localhost:8080/"
        },
        "id": "YnrzKwGdTrJY",
        "outputId": "763780b6-fc37-4598-a2e9-59e099e3b99c"
      },
      "outputs": [
        {
          "data": {
            "text/plain": [
              "TensorShape([1, 1, 1, 1, 50])"
            ]
          },
          "execution_count": 102,
          "metadata": {},
          "output_type": "execute_result"
        }
      ],
      "source": [
        "G.shape"
      ]
    },
    {
      "cell_type": "code",
      "execution_count": null,
      "metadata": {
        "colab": {
          "background_save": true,
          "base_uri": "https://localhost:8080/"
        },
        "id": "0iOZdpxQUBEs",
        "outputId": "8eda5225-f1af-4762-a997-f33d2ddd5867"
      },
      "outputs": [
        {
          "data": {
            "text/plain": [
              "(<tf.Tensor: shape=(50,), dtype=float32, numpy=\n",
              " array([0.6645621 , 0.44100678, 0.3528825 , 0.46448255, 0.03366041,\n",
              "        0.68467236, 0.74011743, 0.8724445 , 0.22632635, 0.22319686,\n",
              "        0.3103881 , 0.7223358 , 0.13318717, 0.5480639 , 0.5746088 ,\n",
              "        0.8996835 , 0.00946367, 0.5212307 , 0.6345445 , 0.1993283 ,\n",
              "        0.72942245, 0.54583454, 0.10756552, 0.6767061 , 0.6602763 ,\n",
              "        0.33695042, 0.60141766, 0.21062577, 0.8527372 , 0.44062173,\n",
              "        0.9485276 , 0.23752594, 0.81179297, 0.5263394 , 0.494308  ,\n",
              "        0.21612847, 0.8457197 , 0.8718841 , 0.3083862 , 0.6868038 ,\n",
              "        0.23764038, 0.7817228 , 0.9671384 , 0.06870162, 0.79873943,\n",
              "        0.66028714, 0.5871513 , 0.16461694, 0.7381023 , 0.32054043],\n",
              "       dtype=float32)>,\n",
              " TensorShape([50]))"
            ]
          },
          "execution_count": 103,
          "metadata": {},
          "output_type": "execute_result"
        }
      ],
      "source": [
        "G_squeezed = tf.squeeze(G)\n",
        "G_squeezed, G_squeezed.shape"
      ]
    },
    {
      "cell_type": "markdown",
      "metadata": {
        "id": "CUnitjo4ULSF"
      },
      "source": [
        "### One-hot enncoding tensors"
      ]
    },
    {
      "cell_type": "code",
      "execution_count": null,
      "metadata": {
        "colab": {
          "background_save": true,
          "base_uri": "https://localhost:8080/"
        },
        "id": "lsh5QPDjUpog",
        "outputId": "0f7374ab-56c3-40f5-81a7-282819d8ed9c"
      },
      "outputs": [
        {
          "data": {
            "text/plain": [
              "<tf.Tensor: shape=(4, 4), dtype=float32, numpy=\n",
              "array([[1., 0., 0., 0.],\n",
              "       [0., 1., 0., 0.],\n",
              "       [0., 0., 1., 0.],\n",
              "       [0., 0., 0., 1.]], dtype=float32)>"
            ]
          },
          "execution_count": 104,
          "metadata": {},
          "output_type": "execute_result"
        }
      ],
      "source": [
        "# Create a list of indices\n",
        "some_list = [0,1,2,3] # could be red, green, blue, purple\n",
        "\n",
        "# One hot encode our list of indices\n",
        "tf.one_hot(some_list, depth=4)"
      ]
    },
    {
      "cell_type": "code",
      "execution_count": null,
      "metadata": {
        "colab": {
          "background_save": true,
          "base_uri": "https://localhost:8080/"
        },
        "id": "W_lkCnKkVS46",
        "outputId": "615777e2-bc07-4fb0-afb7-e8491591241c"
      },
      "outputs": [
        {
          "data": {
            "text/plain": [
              "<tf.Tensor: shape=(4, 4), dtype=string, numpy=\n",
              "array([[b'yo I love deep learning', b'I also like to dance',\n",
              "        b'I also like to dance', b'I also like to dance'],\n",
              "       [b'I also like to dance', b'yo I love deep learning',\n",
              "        b'I also like to dance', b'I also like to dance'],\n",
              "       [b'I also like to dance', b'I also like to dance',\n",
              "        b'yo I love deep learning', b'I also like to dance'],\n",
              "       [b'I also like to dance', b'I also like to dance',\n",
              "        b'I also like to dance', b'yo I love deep learning']],\n",
              "      dtype=object)>"
            ]
          },
          "execution_count": 105,
          "metadata": {},
          "output_type": "execute_result"
        }
      ],
      "source": [
        "# Specify custom values for one hot encoding\n",
        "tf.one_hot(some_list, depth=4, on_value='yo I love deep learning', off_value=\"I also like to dance\")"
      ]
    },
    {
      "cell_type": "code",
      "execution_count": null,
      "metadata": {
        "colab": {
          "background_save": true,
          "base_uri": "https://localhost:8080/"
        },
        "id": "0bNDrXOcV8SV",
        "outputId": "8ea86717-1cef-49da-d984-091a51855f86"
      },
      "outputs": [
        {
          "data": {
            "text/plain": [
              "<tf.Tensor: shape=(4, 3), dtype=float32, numpy=\n",
              "array([[1., 0., 0.],\n",
              "       [0., 1., 0.],\n",
              "       [0., 0., 1.],\n",
              "       [0., 0., 0.]], dtype=float32)>"
            ]
          },
          "execution_count": 106,
          "metadata": {},
          "output_type": "execute_result"
        }
      ],
      "source": [
        "# Create a list of indices\n",
        "lists = [0,1,2,3] # could be red, green, blue, purple\n",
        "\n",
        "# One hot encode our list of indices\n",
        "tf.one_hot(lists, depth=3)"
      ]
    },
    {
      "cell_type": "code",
      "execution_count": null,
      "metadata": {
        "colab": {
          "background_save": true,
          "base_uri": "https://localhost:8080/"
        },
        "id": "CAP1DI3cW-oh",
        "outputId": "441b4a73-4e63-46fa-bde6-ee4be149378a"
      },
      "outputs": [
        {
          "data": {
            "text/plain": [
              "<tf.Tensor: shape=(4, 4), dtype=int32, numpy=\n",
              "array([[2, 3, 3, 3],\n",
              "       [3, 2, 3, 3],\n",
              "       [3, 3, 2, 3],\n",
              "       [3, 3, 3, 2]], dtype=int32)>"
            ]
          },
          "execution_count": 107,
          "metadata": {},
          "output_type": "execute_result"
        }
      ],
      "source": [
        "tf.one_hot(lists, depth=4, on_value=2, off_value=3)"
      ]
    },
    {
      "cell_type": "markdown",
      "metadata": {
        "id": "C3sA7ojEXbiJ"
      },
      "source": [
        "### Squaring, log, square root"
      ]
    },
    {
      "cell_type": "code",
      "execution_count": null,
      "metadata": {
        "colab": {
          "background_save": true,
          "base_uri": "https://localhost:8080/"
        },
        "id": "Jg7BUatKXKwD",
        "outputId": "02f45463-0a02-473a-929f-b030c6df6535"
      },
      "outputs": [
        {
          "data": {
            "text/plain": [
              "<tf.Tensor: shape=(9,), dtype=int32, numpy=array([1, 2, 3, 4, 5, 6, 7, 8, 9], dtype=int32)>"
            ]
          },
          "execution_count": 108,
          "metadata": {},
          "output_type": "execute_result"
        }
      ],
      "source": [
        "# Create a new tensor\n",
        "H = tf.range(1, 10)\n",
        "H"
      ]
    },
    {
      "cell_type": "code",
      "execution_count": null,
      "metadata": {
        "colab": {
          "background_save": true,
          "base_uri": "https://localhost:8080/"
        },
        "id": "Ssi48ttJYwyC",
        "outputId": "ca87a709-f8e5-422a-d4bd-8efe0a5b0695"
      },
      "outputs": [
        {
          "data": {
            "text/plain": [
              "<tf.Tensor: shape=(9,), dtype=int32, numpy=array([ 1,  4,  9, 16, 25, 36, 49, 64, 81], dtype=int32)>"
            ]
          },
          "execution_count": 109,
          "metadata": {},
          "output_type": "execute_result"
        }
      ],
      "source": [
        "# Square it\n",
        "tf.square(H)"
      ]
    },
    {
      "cell_type": "code",
      "execution_count": null,
      "metadata": {
        "colab": {
          "background_save": true
        },
        "id": "2EL2iLP-j_ji"
      },
      "outputs": [],
      "source": [
        "# Find the squareroot (will error, method requires non-int type)\n",
        "# tf.sqrt(H)"
      ]
    },
    {
      "cell_type": "code",
      "execution_count": null,
      "metadata": {
        "colab": {
          "background_save": true,
          "base_uri": "https://localhost:8080/"
        },
        "id": "dDkZ31TgaU6q",
        "outputId": "0de7c71e-e6f6-4ce1-cfc9-ccaebb6c019d"
      },
      "outputs": [
        {
          "data": {
            "text/plain": [
              "<tf.Tensor: shape=(9,), dtype=float32, numpy=\n",
              "array([1.       , 1.4142135, 1.7320508, 2.       , 2.2360678, 2.4494896,\n",
              "       2.6457512, 2.828427 , 3.       ], dtype=float32)>"
            ]
          },
          "execution_count": 111,
          "metadata": {},
          "output_type": "execute_result"
        }
      ],
      "source": [
        "# Find the squareroot\n",
        "tf.sqrt(tf.cast(H, dtype=tf.float32))"
      ]
    },
    {
      "cell_type": "code",
      "execution_count": null,
      "metadata": {
        "colab": {
          "background_save": true,
          "base_uri": "https://localhost:8080/"
        },
        "id": "GTEZtOa6kZDp",
        "outputId": "6d87247e-1ffa-4487-e2e3-ae88f382a9b3"
      },
      "outputs": [
        {
          "data": {
            "text/plain": [
              "<tf.Tensor: shape=(9,), dtype=float32, numpy=\n",
              "array([0.       , 0.6931472, 1.0986123, 1.3862944, 1.609438 , 1.7917595,\n",
              "       1.9459102, 2.0794415, 2.1972246], dtype=float32)>"
            ]
          },
          "execution_count": 112,
          "metadata": {},
          "output_type": "execute_result"
        }
      ],
      "source": [
        "# Find the log\n",
        "tf.math.log(tf.cast(H, dtype=tf.float32))"
      ]
    },
    {
      "cell_type": "markdown",
      "metadata": {
        "id": "uvvN80PjlISU"
      },
      "source": [
        "### Tensors and NumPy\n",
        "TensorFlow interacts beautifully with NumPy arrays.\n",
        "\n",
        "**Note:** One of the main differences between a TensorFlow tensor and a NumPy array is that a TensorFlow tensor can be run on a GPU or TPU (for faster numerical processing)."
      ]
    },
    {
      "cell_type": "code",
      "execution_count": null,
      "metadata": {
        "colab": {
          "background_save": true,
          "base_uri": "https://localhost:8080/"
        },
        "id": "NmvHAoK9kbjm",
        "outputId": "3400572d-cf5f-4813-d711-5d0874b13752"
      },
      "outputs": [
        {
          "data": {
            "text/plain": [
              "<tf.Tensor: shape=(3,), dtype=float64, numpy=array([ 3.,  7., 10.])>"
            ]
          },
          "execution_count": 113,
          "metadata": {},
          "output_type": "execute_result"
        }
      ],
      "source": [
        "# Create a tensor directly from a NumPy array\n",
        "J = tf.constant(np.array([3., 7., 10.,]))\n",
        "J"
      ]
    },
    {
      "cell_type": "code",
      "execution_count": null,
      "metadata": {
        "colab": {
          "background_save": true,
          "base_uri": "https://localhost:8080/"
        },
        "id": "wJhbrHtCls8h",
        "outputId": "f224b13e-946b-434f-9b2b-0a933300e145"
      },
      "outputs": [
        {
          "data": {
            "text/plain": [
              "(array([ 3.,  7., 10.]), numpy.ndarray)"
            ]
          },
          "execution_count": 114,
          "metadata": {},
          "output_type": "execute_result"
        }
      ],
      "source": [
        "# Convert our tensor back to a NumPy array\n",
        "np.array(J), type(np.array(J))"
      ]
    },
    {
      "cell_type": "code",
      "execution_count": null,
      "metadata": {
        "colab": {
          "background_save": true,
          "base_uri": "https://localhost:8080/"
        },
        "id": "eeijmsZll2jx",
        "outputId": "a69f886f-cb23-4a99-ee08-6624d92e479f"
      },
      "outputs": [
        {
          "data": {
            "text/plain": [
              "(array([ 3.,  7., 10.]), numpy.ndarray)"
            ]
          },
          "execution_count": 115,
          "metadata": {},
          "output_type": "execute_result"
        }
      ],
      "source": [
        "# Convert tensor J to a NumPy array\n",
        "J.numpy(), type(J.numpy())"
      ]
    },
    {
      "cell_type": "code",
      "execution_count": null,
      "metadata": {
        "colab": {
          "background_save": true,
          "base_uri": "https://localhost:8080/"
        },
        "id": "0z-_AhYfmG2g",
        "outputId": "64dbab6e-5f74-4581-ee23-8dd573e5951e"
      },
      "outputs": [
        {
          "data": {
            "text/plain": [
              "(tf.float64, tf.float32)"
            ]
          },
          "execution_count": 116,
          "metadata": {},
          "output_type": "execute_result"
        }
      ],
      "source": [
        "# The default types of each are slightly different\n",
        "numpy_J = tf.constant(np.array([3., 7., 10.]))\n",
        "tensor_J = tf.constant([3., 7., 10.])\n",
        "# Check the datatypes of each\n",
        "numpy_J.dtype, tensor_J.dtype"
      ]
    },
    {
      "cell_type": "markdown",
      "metadata": {
        "id": "9IjUAmGsm8cX"
      },
      "source": [
        "###  Finding access to GPUs"
      ]
    },
    {
      "cell_type": "code",
      "execution_count": null,
      "metadata": {
        "colab": {
          "background_save": true,
          "base_uri": "https://localhost:8080/"
        },
        "id": "dOE7WDFWoawW",
        "outputId": "83e60b55-1a8c-4811-9893-c0d0290ecf89"
      },
      "outputs": [
        {
          "data": {
            "text/plain": [
              "[PhysicalDevice(name='/physical_device:GPU:0', device_type='GPU')]"
            ]
          },
          "execution_count": 117,
          "metadata": {},
          "output_type": "execute_result"
        }
      ],
      "source": [
        "import tensorflow as tf\n",
        "tf.config.list_physical_devices('GPU')"
      ]
    },
    {
      "cell_type": "markdown",
      "metadata": {
        "id": "r4MUKOJRt53G"
      },
      "source": [
        "> **Note:** If you have access to a CUDA-enabled GPU, Tensorflow will automatically use it whenever possible."
      ]
    },
    {
      "cell_type": "code",
      "execution_count": null,
      "metadata": {
        "colab": {
          "background_save": true
        },
        "id": "S4YHqpYjom5o"
      },
      "outputs": [],
      "source": []
    }
  ],
  "metadata": {
    "accelerator": "GPU",
    "colab": {
      "gpuType": "T4",
      "provenance": []
    },
    "kernelspec": {
      "display_name": "Python 3",
      "name": "python3"
    },
    "language_info": {
      "name": "python"
    }
  },
  "nbformat": 4,
  "nbformat_minor": 0
}